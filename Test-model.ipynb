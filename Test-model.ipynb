{
 "cells": [
  {
   "cell_type": "code",
   "execution_count": 1,
   "metadata": {},
   "outputs": [],
   "source": [
    "import pandas as pd\n",
    "import numpy as np\n",
    "import pickle"
   ]
  },
  {
   "cell_type": "code",
   "execution_count": 2,
   "metadata": {},
   "outputs": [],
   "source": [
    "label = {0:'Poor', 1:'Good', 2:'Average', 3:'Very Good', 4:'Excelent'}"
   ]
  },
  {
   "cell_type": "code",
   "execution_count": 3,
   "metadata": {},
   "outputs": [],
   "source": [
    "new = pd.read_excel('dataset/new_data.xlsx')"
   ]
  },
  {
   "cell_type": "code",
   "execution_count": 4,
   "metadata": {},
   "outputs": [
    {
     "data": {
      "text/html": [
       "<div>\n",
       "<style scoped>\n",
       "    .dataframe tbody tr th:only-of-type {\n",
       "        vertical-align: middle;\n",
       "    }\n",
       "\n",
       "    .dataframe tbody tr th {\n",
       "        vertical-align: top;\n",
       "    }\n",
       "\n",
       "    .dataframe thead th {\n",
       "        text-align: right;\n",
       "    }\n",
       "</style>\n",
       "<table border=\"1\" class=\"dataframe\">\n",
       "  <thead>\n",
       "    <tr style=\"text-align: right;\">\n",
       "      <th></th>\n",
       "      <th>State_Name</th>\n",
       "      <th>District_Name</th>\n",
       "      <th>Season</th>\n",
       "      <th>Crop</th>\n",
       "      <th>Area</th>\n",
       "      <th>Production</th>\n",
       "      <th>yeild per area</th>\n",
       "    </tr>\n",
       "  </thead>\n",
       "  <tbody>\n",
       "    <tr>\n",
       "      <th>0</th>\n",
       "      <td>Andaman and Nicobar Islands</td>\n",
       "      <td>NICOBARS</td>\n",
       "      <td>Kharif</td>\n",
       "      <td>Rice</td>\n",
       "      <td>102.0</td>\n",
       "      <td>321.0</td>\n",
       "      <td>3.147059</td>\n",
       "    </tr>\n",
       "    <tr>\n",
       "      <th>1</th>\n",
       "      <td>Andaman and Nicobar Islands</td>\n",
       "      <td>NICOBARS</td>\n",
       "      <td>Whole Year</td>\n",
       "      <td>Banana</td>\n",
       "      <td>176.0</td>\n",
       "      <td>641.0</td>\n",
       "      <td>3.642045</td>\n",
       "    </tr>\n",
       "  </tbody>\n",
       "</table>\n",
       "</div>"
      ],
      "text/plain": [
       "                    State_Name District_Name       Season    Crop   Area  \\\n",
       "0  Andaman and Nicobar Islands      NICOBARS  Kharif         Rice  102.0   \n",
       "1  Andaman and Nicobar Islands      NICOBARS  Whole Year   Banana  176.0   \n",
       "\n",
       "   Production  yeild per area  \n",
       "0       321.0        3.147059  \n",
       "1       641.0        3.642045  "
      ]
     },
     "execution_count": 4,
     "metadata": {},
     "output_type": "execute_result"
    }
   ],
   "source": [
    "new.head(2)"
   ]
  },
  {
   "cell_type": "code",
   "execution_count": 5,
   "metadata": {},
   "outputs": [],
   "source": [
    "state = new.State_Name.unique()"
   ]
  },
  {
   "cell_type": "code",
   "execution_count": 6,
   "metadata": {},
   "outputs": [
    {
     "name": "stdout",
     "output_type": "stream",
     "text": [
      "Andaman and Nicobar Islands --- 1\n",
      "Andhra Pradesh --- 2\n",
      "Arunachal Pradesh --- 3\n",
      "Assam --- 4\n",
      "Bihar --- 5\n",
      "Chandigarh --- 6\n",
      "Chhattisgarh --- 7\n",
      "Dadra and Nagar Haveli --- 8\n",
      "Goa --- 9\n",
      "Gujarat --- 10\n",
      "Haryana --- 11\n",
      "Himachal Pradesh --- 12\n",
      "Jammu and Kashmir  --- 13\n",
      "Jharkhand --- 14\n",
      "Karnataka --- 15\n",
      "Kerala --- 16\n",
      "Madhya Pradesh --- 17\n",
      "Maharashtra --- 18\n",
      "Manipur --- 19\n",
      "Meghalaya --- 20\n",
      "Mizoram --- 21\n",
      "Nagaland --- 22\n",
      "Odisha --- 23\n",
      "Puducherry --- 24\n",
      "Punjab --- 25\n",
      "Rajasthan --- 26\n",
      "Sikkim --- 27\n",
      "Tamil Nadu --- 28\n",
      "Telangana  --- 29\n",
      "Tripura --- 30\n",
      "Uttar Pradesh --- 31\n",
      "Uttarakhand --- 32\n",
      "West Bengal --- 33\n"
     ]
    }
   ],
   "source": [
    "count = 1\n",
    "for i in state:\n",
    "    print(i,'---',count)\n",
    "    count += 1"
   ]
  },
  {
   "cell_type": "code",
   "execution_count": 7,
   "metadata": {},
   "outputs": [],
   "source": [
    "sea = new.Season.unique()"
   ]
  },
  {
   "cell_type": "code",
   "execution_count": 8,
   "metadata": {},
   "outputs": [
    {
     "name": "stdout",
     "output_type": "stream",
     "text": [
      "Kharif      --- 1\n",
      "Whole Year  --- 2\n",
      "Autumn      --- 3\n",
      "Rabi        --- 4\n",
      "Summer      --- 5\n",
      "Winter      --- 6\n"
     ]
    }
   ],
   "source": [
    "count = 1\n",
    "for i in sea:\n",
    "    print(i,'---',count)\n",
    "    count += 1"
   ]
  },
  {
   "cell_type": "code",
   "execution_count": 9,
   "metadata": {},
   "outputs": [],
   "source": [
    "cro = new.Crop.unique()"
   ]
  },
  {
   "cell_type": "code",
   "execution_count": 10,
   "metadata": {},
   "outputs": [
    {
     "name": "stdout",
     "output_type": "stream",
     "text": [
      "Rice --- 1\n",
      "Banana --- 2\n",
      "Coconut  --- 3\n",
      "Sugarcane --- 4\n",
      "Sweet potato --- 5\n",
      "Dry chillies --- 6\n",
      "Turmeric --- 7\n",
      "Black pepper --- 8\n",
      "Cashewnut --- 9\n",
      "Groundnut --- 10\n",
      "Cotton(lint) --- 11\n",
      "Ragi --- 12\n",
      "Onion --- 13\n",
      "Potato --- 14\n",
      "Brinjal --- 15\n",
      "Mango --- 16\n",
      "Papaya --- 17\n",
      "Tomato --- 18\n",
      "Soyabean --- 19\n",
      "Wheat --- 20\n",
      "Lemon --- 21\n",
      "Pome Granet --- 22\n",
      "Sapota --- 23\n",
      "Cabbage --- 24\n",
      "Sunflower --- 25\n",
      "Ginger --- 26\n",
      "Paddy --- 27\n",
      "Tea --- 28\n",
      "Carrot --- 29\n",
      "Cauliflower --- 30\n",
      "Jack Fruit --- 31\n",
      "Bottle Gourd --- 32\n",
      "Bean --- 33\n"
     ]
    }
   ],
   "source": [
    "count = 1\n",
    "for i in cro:\n",
    "    print(i,'---',count)\n",
    "    count += 1"
   ]
  },
  {
   "cell_type": "code",
   "execution_count": 11,
   "metadata": {},
   "outputs": [],
   "source": [
    "new.drop(['Area','Production'], axis=1 , inplace = True )"
   ]
  },
  {
   "cell_type": "code",
   "execution_count": 48,
   "metadata": {},
   "outputs": [
    {
     "name": "stdout",
     "output_type": "stream",
     "text": [
      "Enter the State : 2\n",
      "Enter the Season : 2\n",
      "Enter the Crop : 10\n",
      "Enter the Expected Yeild : 9200\n"
     ]
    }
   ],
   "source": [
    "state = int(input('Enter the State : '))\n",
    "season = int(input('Enter the Season : '))\n",
    "crop = int(input('Enter the Crop : '))\n",
    "yeild = float(input('Enter the Expected Yeild : '))"
   ]
  },
  {
   "cell_type": "code",
   "execution_count": 49,
   "metadata": {},
   "outputs": [],
   "source": [
    "l = [[state,season,crop,yeild]]"
   ]
  },
  {
   "cell_type": "code",
   "execution_count": 50,
   "metadata": {},
   "outputs": [],
   "source": [
    "filename='model/nb_model.sav'"
   ]
  },
  {
   "cell_type": "code",
   "execution_count": 51,
   "metadata": {},
   "outputs": [],
   "source": [
    "model = pickle.load(open(filename,'rb'))"
   ]
  },
  {
   "cell_type": "code",
   "execution_count": 52,
   "metadata": {},
   "outputs": [],
   "source": [
    "y_pred = model.predict(l)"
   ]
  },
  {
   "cell_type": "code",
   "execution_count": 53,
   "metadata": {},
   "outputs": [],
   "source": [
    "a = int(y_pred)\n",
    "answer = label[a]"
   ]
  },
  {
   "cell_type": "code",
   "execution_count": 54,
   "metadata": {},
   "outputs": [
    {
     "name": "stdout",
     "output_type": "stream",
     "text": [
      "Your going to get Average\n"
     ]
    }
   ],
   "source": [
    "print(\"Your going to get {}\".format(answer))"
   ]
  },
  {
   "cell_type": "code",
   "execution_count": 55,
   "metadata": {},
   "outputs": [],
   "source": [
    "label = {0:'Poor', 1:'Good', 2:'Average', 3:'Very Good', 4:'Excelent'}"
   ]
  },
  {
   "cell_type": "code",
   "execution_count": 56,
   "metadata": {},
   "outputs": [
    {
     "data": {
      "image/jpeg": "[encoded data removed]",
      "text/plain": [
       "<IPython.core.display.Image object>"
      ]
     },
     "execution_count": 56,
     "metadata": {},
     "output_type": "execute_result"
    }
   ],
   "source": [
    "from IPython.display import Image\n",
    "if answer == 'Poor':\n",
    "    img = \"img/f6.jpg\"\n",
    "elif answer == 'Good':\n",
    "    img = \"img/f3.jpg\"\n",
    "elif answer == 'Average':\n",
    "    img = \"img/f4.jpg\"\n",
    "elif answer == 'Very Good':\n",
    "    img = \"img/f1.jpg\"\n",
    "elif answer == 'Exelent':\n",
    "    img = \"img/f2.jpg\"\n",
    "    \n",
    "\n",
    "Image(img)"
   ]
  },
  {
   "cell_type": "markdown",
   "metadata": {},
   "source": [
    "# Done"
   ]
  },
  {
   "cell_type": "code",
   "execution_count": null,
   "metadata": {},
   "outputs": [],
   "source": []
  }
 ],
 "metadata": {
  "kernelspec": {
   "display_name": "Python 3",
   "language": "python",
   "name": "python3"
  },
  "language_info": {
   "codemirror_mode": {
    "name": "ipython",
    "version": 3
   },
   "file_extension": ".py",
   "mimetype": "text/x-python",
   "name": "python",
   "nbconvert_exporter": "python",
   "pygments_lexer": "ipython3",
   "version": "3.7.4"
  }
 },
 "nbformat": 4,
 "nbformat_minor": 2
}
