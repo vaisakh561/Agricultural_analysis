{
 "cells": [
  {
   "cell_type": "markdown",
   "metadata": {},
   "source": [
    "# Import the Lib"
   ]
  },
  {
   "cell_type": "code",
   "execution_count": 1,
   "metadata": {},
   "outputs": [],
   "source": [
    "import numpy as np\n",
    "import pandas as pd\n",
    "import matplotlib.pyplot as plt\n",
    "import seaborn as sns\n",
    "import pickle\n",
    "%matplotlib inline"
   ]
  },
  {
   "cell_type": "markdown",
   "metadata": {},
   "source": [
    "# Read the Data "
   ]
  },
  {
   "cell_type": "code",
   "execution_count": 2,
   "metadata": {},
   "outputs": [],
   "source": [
    "agri_data = pd.read_excel('dataset/new_data.xlsx')"
   ]
  },
  {
   "cell_type": "code",
   "execution_count": 3,
   "metadata": {},
   "outputs": [
    {
     "data": {
      "text/html": [
       "<div>\n",
       "<style scoped>\n",
       "    .dataframe tbody tr th:only-of-type {\n",
       "        vertical-align: middle;\n",
       "    }\n",
       "\n",
       "    .dataframe tbody tr th {\n",
       "        vertical-align: top;\n",
       "    }\n",
       "\n",
       "    .dataframe thead th {\n",
       "        text-align: right;\n",
       "    }\n",
       "</style>\n",
       "<table border=\"1\" class=\"dataframe\">\n",
       "  <thead>\n",
       "    <tr style=\"text-align: right;\">\n",
       "      <th></th>\n",
       "      <th>State_Name</th>\n",
       "      <th>District_Name</th>\n",
       "      <th>Season</th>\n",
       "      <th>Crop</th>\n",
       "      <th>Area</th>\n",
       "      <th>Production</th>\n",
       "      <th>yeild per area</th>\n",
       "    </tr>\n",
       "  </thead>\n",
       "  <tbody>\n",
       "    <tr>\n",
       "      <th>0</th>\n",
       "      <td>Andaman and Nicobar Islands</td>\n",
       "      <td>NICOBARS</td>\n",
       "      <td>Kharif</td>\n",
       "      <td>Rice</td>\n",
       "      <td>102.0</td>\n",
       "      <td>321.00</td>\n",
       "      <td>3.147059</td>\n",
       "    </tr>\n",
       "    <tr>\n",
       "      <th>1</th>\n",
       "      <td>Andaman and Nicobar Islands</td>\n",
       "      <td>NICOBARS</td>\n",
       "      <td>Whole Year</td>\n",
       "      <td>Banana</td>\n",
       "      <td>176.0</td>\n",
       "      <td>641.00</td>\n",
       "      <td>3.642045</td>\n",
       "    </tr>\n",
       "    <tr>\n",
       "      <th>2</th>\n",
       "      <td>Andaman and Nicobar Islands</td>\n",
       "      <td>NICOBARS</td>\n",
       "      <td>Whole Year</td>\n",
       "      <td>Coconut</td>\n",
       "      <td>18168.0</td>\n",
       "      <td>65100000.00</td>\n",
       "      <td>3583.223250</td>\n",
       "    </tr>\n",
       "    <tr>\n",
       "      <th>3</th>\n",
       "      <td>Andaman and Nicobar Islands</td>\n",
       "      <td>NICOBARS</td>\n",
       "      <td>Whole Year</td>\n",
       "      <td>Sugarcane</td>\n",
       "      <td>1.0</td>\n",
       "      <td>2.00</td>\n",
       "      <td>2.000000</td>\n",
       "    </tr>\n",
       "    <tr>\n",
       "      <th>4</th>\n",
       "      <td>Andaman and Nicobar Islands</td>\n",
       "      <td>NICOBARS</td>\n",
       "      <td>Whole Year</td>\n",
       "      <td>Sweet potato</td>\n",
       "      <td>5.0</td>\n",
       "      <td>15.00</td>\n",
       "      <td>3.000000</td>\n",
       "    </tr>\n",
       "    <tr>\n",
       "      <th>5</th>\n",
       "      <td>Andaman and Nicobar Islands</td>\n",
       "      <td>NICOBARS</td>\n",
       "      <td>Kharif</td>\n",
       "      <td>Rice</td>\n",
       "      <td>83.0</td>\n",
       "      <td>300.00</td>\n",
       "      <td>3.614458</td>\n",
       "    </tr>\n",
       "    <tr>\n",
       "      <th>6</th>\n",
       "      <td>Andaman and Nicobar Islands</td>\n",
       "      <td>NICOBARS</td>\n",
       "      <td>Whole Year</td>\n",
       "      <td>Coconut</td>\n",
       "      <td>18190.0</td>\n",
       "      <td>64430000.00</td>\n",
       "      <td>3542.056075</td>\n",
       "    </tr>\n",
       "    <tr>\n",
       "      <th>7</th>\n",
       "      <td>Andaman and Nicobar Islands</td>\n",
       "      <td>NICOBARS</td>\n",
       "      <td>Whole Year</td>\n",
       "      <td>Sugarcane</td>\n",
       "      <td>1.0</td>\n",
       "      <td>1.00</td>\n",
       "      <td>1.000000</td>\n",
       "    </tr>\n",
       "    <tr>\n",
       "      <th>8</th>\n",
       "      <td>Andaman and Nicobar Islands</td>\n",
       "      <td>NICOBARS</td>\n",
       "      <td>Whole Year</td>\n",
       "      <td>Sweet potato</td>\n",
       "      <td>11.0</td>\n",
       "      <td>33.00</td>\n",
       "      <td>3.000000</td>\n",
       "    </tr>\n",
       "    <tr>\n",
       "      <th>9</th>\n",
       "      <td>Andaman and Nicobar Islands</td>\n",
       "      <td>NICOBARS</td>\n",
       "      <td>Kharif</td>\n",
       "      <td>Rice</td>\n",
       "      <td>189.2</td>\n",
       "      <td>510.84</td>\n",
       "      <td>2.700000</td>\n",
       "    </tr>\n",
       "  </tbody>\n",
       "</table>\n",
       "</div>"
      ],
      "text/plain": [
       "                    State_Name District_Name       Season          Crop  \\\n",
       "0  Andaman and Nicobar Islands      NICOBARS  Kharif               Rice   \n",
       "1  Andaman and Nicobar Islands      NICOBARS  Whole Year         Banana   \n",
       "2  Andaman and Nicobar Islands      NICOBARS  Whole Year       Coconut    \n",
       "3  Andaman and Nicobar Islands      NICOBARS  Whole Year      Sugarcane   \n",
       "4  Andaman and Nicobar Islands      NICOBARS  Whole Year   Sweet potato   \n",
       "5  Andaman and Nicobar Islands      NICOBARS  Kharif               Rice   \n",
       "6  Andaman and Nicobar Islands      NICOBARS  Whole Year       Coconut    \n",
       "7  Andaman and Nicobar Islands      NICOBARS  Whole Year      Sugarcane   \n",
       "8  Andaman and Nicobar Islands      NICOBARS  Whole Year   Sweet potato   \n",
       "9  Andaman and Nicobar Islands      NICOBARS  Kharif               Rice   \n",
       "\n",
       "      Area   Production  yeild per area  \n",
       "0    102.0       321.00        3.147059  \n",
       "1    176.0       641.00        3.642045  \n",
       "2  18168.0  65100000.00     3583.223250  \n",
       "3      1.0         2.00        2.000000  \n",
       "4      5.0        15.00        3.000000  \n",
       "5     83.0       300.00        3.614458  \n",
       "6  18190.0  64430000.00     3542.056075  \n",
       "7      1.0         1.00        1.000000  \n",
       "8     11.0        33.00        3.000000  \n",
       "9    189.2       510.84        2.700000  "
      ]
     },
     "execution_count": 3,
     "metadata": {},
     "output_type": "execute_result"
    }
   ],
   "source": [
    "agri_data.head(10)"
   ]
  },
  {
   "cell_type": "markdown",
   "metadata": {},
   "source": [
    "# Data Preprocessing"
   ]
  },
  {
   "cell_type": "code",
   "execution_count": 4,
   "metadata": {
    "scrolled": true
   },
   "outputs": [
    {
     "data": {
      "text/plain": [
       "State_Name        0\n",
       "District_Name     0\n",
       "Season            0\n",
       "Crop              0\n",
       "Area              0\n",
       "Production        0\n",
       "yeild per area    0\n",
       "dtype: int64"
      ]
     },
     "execution_count": 4,
     "metadata": {},
     "output_type": "execute_result"
    }
   ],
   "source": [
    "agri_data.isna().sum()"
   ]
  },
  {
   "cell_type": "code",
   "execution_count": 5,
   "metadata": {},
   "outputs": [
    {
     "name": "stdout",
     "output_type": "stream",
     "text": [
      "<class 'pandas.core.frame.DataFrame'>\n",
      "RangeIndex: 74638 entries, 0 to 74637\n",
      "Data columns (total 7 columns):\n",
      "State_Name        74638 non-null object\n",
      "District_Name     74638 non-null object\n",
      "Season            74638 non-null object\n",
      "Crop              74638 non-null object\n",
      "Area              74638 non-null float64\n",
      "Production        74638 non-null float64\n",
      "yeild per area    74638 non-null float64\n",
      "dtypes: float64(3), object(4)\n",
      "memory usage: 2.8+ MB\n"
     ]
    }
   ],
   "source": [
    "agri_data.info()"
   ]
  },
  {
   "cell_type": "code",
   "execution_count": 6,
   "metadata": {
    "scrolled": true
   },
   "outputs": [
    {
     "data": {
      "text/plain": [
       "array(['Kharif     ', 'Whole Year ', 'Autumn     ', 'Rabi       ',\n",
       "       'Summer     ', 'Winter     '], dtype=object)"
      ]
     },
     "execution_count": 6,
     "metadata": {},
     "output_type": "execute_result"
    }
   ],
   "source": [
    "agri_data.Season.unique()"
   ]
  },
  {
   "cell_type": "code",
   "execution_count": 7,
   "metadata": {},
   "outputs": [],
   "source": [
    "agri_data['Season'].replace('Kharif     ',1,inplace=True)\n",
    "agri_data['Season'].replace('Whole Year ',2,inplace=True)\n",
    "agri_data['Season'].replace('Autumn     ',3,inplace=True)\n",
    "agri_data['Season'].replace('Summer     ',5,inplace=True)\n",
    "agri_data['Season'].replace('Winter     ',6,inplace=True)\n",
    "agri_data['Season'].replace('Rabi       ',4,inplace=True)"
   ]
  },
  {
   "cell_type": "code",
   "execution_count": 8,
   "metadata": {
    "scrolled": true
   },
   "outputs": [],
   "source": [
    "l = agri_data.Crop.unique()"
   ]
  },
  {
   "cell_type": "code",
   "execution_count": 9,
   "metadata": {},
   "outputs": [],
   "source": [
    "l.sort()"
   ]
  },
  {
   "cell_type": "code",
   "execution_count": 10,
   "metadata": {},
   "outputs": [
    {
     "name": "stdout",
     "output_type": "stream",
     "text": [
      "['Banana' 'Bean' 'Black pepper' 'Bottle Gourd' 'Brinjal' 'Cabbage'\n",
      " 'Carrot' 'Cashewnut' 'Cauliflower' 'Coconut ' 'Cotton(lint)'\n",
      " 'Dry chillies' 'Ginger' 'Groundnut' 'Jack Fruit' 'Lemon' 'Mango' 'Onion'\n",
      " 'Paddy' 'Papaya' 'Pome Granet' 'Potato' 'Ragi' 'Rice' 'Sapota' 'Soyabean'\n",
      " 'Sugarcane' 'Sunflower' 'Sweet potato' 'Tea' 'Tomato' 'Turmeric' 'Wheat']\n"
     ]
    }
   ],
   "source": [
    "print(l)"
   ]
  },
  {
   "cell_type": "code",
   "execution_count": 11,
   "metadata": {
    "scrolled": true
   },
   "outputs": [
    {
     "name": "stdout",
     "output_type": "stream",
     "text": [
      "Banana ---------- 1\n",
      "Bean ---------- 2\n",
      "Black pepper ---------- 3\n",
      "Bottle Gourd ---------- 4\n",
      "Brinjal ---------- 5\n",
      "Cabbage ---------- 6\n",
      "Carrot ---------- 7\n",
      "Cashewnut ---------- 8\n",
      "Cauliflower ---------- 9\n",
      "Coconut  ---------- 10\n",
      "Cotton(lint) ---------- 11\n",
      "Dry chillies ---------- 12\n",
      "Ginger ---------- 13\n",
      "Groundnut ---------- 14\n",
      "Jack Fruit ---------- 15\n",
      "Lemon ---------- 16\n",
      "Mango ---------- 17\n",
      "Onion ---------- 18\n",
      "Paddy ---------- 19\n",
      "Papaya ---------- 20\n",
      "Pome Granet ---------- 21\n",
      "Potato ---------- 22\n",
      "Ragi ---------- 23\n",
      "Rice ---------- 24\n",
      "Sapota ---------- 25\n",
      "Soyabean ---------- 26\n",
      "Sugarcane ---------- 27\n",
      "Sunflower ---------- 28\n",
      "Sweet potato ---------- 29\n",
      "Tea ---------- 30\n",
      "Tomato ---------- 31\n",
      "Turmeric ---------- 32\n",
      "Wheat ---------- 33\n"
     ]
    }
   ],
   "source": [
    "m = 1\n",
    "\n",
    "for i in l:\n",
    "    agri_data['Crop'].replace(i,m,inplace=True)\n",
    "    print(i,\"----------\",m)\n",
    "    m+=1"
   ]
  },
  {
   "cell_type": "code",
   "execution_count": 12,
   "metadata": {
    "scrolled": false
   },
   "outputs": [
    {
     "data": {
      "text/plain": [
       "array([24,  1, 10, 27, 29, 12, 32,  3,  8, 14, 11, 23, 18, 22,  5, 17, 20,\n",
       "       31, 26, 33, 16, 21, 25,  6, 28, 13, 19, 30,  7,  9, 15,  4,  2],\n",
       "      dtype=int64)"
      ]
     },
     "execution_count": 12,
     "metadata": {},
     "output_type": "execute_result"
    }
   ],
   "source": [
    "agri_data.Crop.unique()"
   ]
  },
  {
   "cell_type": "code",
   "execution_count": 13,
   "metadata": {},
   "outputs": [],
   "source": [
    "s = agri_data.State_Name.unique()"
   ]
  },
  {
   "cell_type": "code",
   "execution_count": 14,
   "metadata": {},
   "outputs": [],
   "source": [
    "s.sort()"
   ]
  },
  {
   "cell_type": "code",
   "execution_count": 15,
   "metadata": {},
   "outputs": [
    {
     "name": "stdout",
     "output_type": "stream",
     "text": [
      "['Andaman and Nicobar Islands' 'Andhra Pradesh' 'Arunachal Pradesh'\n",
      " 'Assam' 'Bihar' 'Chandigarh' 'Chhattisgarh' 'Dadra and Nagar Haveli'\n",
      " 'Goa' 'Gujarat' 'Haryana' 'Himachal Pradesh' 'Jammu and Kashmir '\n",
      " 'Jharkhand' 'Karnataka' 'Kerala' 'Madhya Pradesh' 'Maharashtra' 'Manipur'\n",
      " 'Meghalaya' 'Mizoram' 'Nagaland' 'Odisha' 'Puducherry' 'Punjab'\n",
      " 'Rajasthan' 'Sikkim' 'Tamil Nadu' 'Telangana ' 'Tripura' 'Uttar Pradesh'\n",
      " 'Uttarakhand' 'West Bengal']\n"
     ]
    }
   ],
   "source": [
    "print(s)"
   ]
  },
  {
   "cell_type": "code",
   "execution_count": 16,
   "metadata": {},
   "outputs": [
    {
     "name": "stdout",
     "output_type": "stream",
     "text": [
      "Andaman and Nicobar Islands ---------- 1\n",
      "Andhra Pradesh ---------- 2\n",
      "Arunachal Pradesh ---------- 3\n",
      "Assam ---------- 4\n",
      "Bihar ---------- 5\n",
      "Chandigarh ---------- 6\n",
      "Chhattisgarh ---------- 7\n",
      "Dadra and Nagar Haveli ---------- 8\n",
      "Goa ---------- 9\n",
      "Gujarat ---------- 10\n",
      "Haryana ---------- 11\n",
      "Himachal Pradesh ---------- 12\n",
      "Jammu and Kashmir  ---------- 13\n",
      "Jharkhand ---------- 14\n",
      "Karnataka ---------- 15\n",
      "Kerala ---------- 16\n",
      "Madhya Pradesh ---------- 17\n",
      "Maharashtra ---------- 18\n",
      "Manipur ---------- 19\n",
      "Meghalaya ---------- 20\n",
      "Mizoram ---------- 21\n",
      "Nagaland ---------- 22\n",
      "Odisha ---------- 23\n",
      "Puducherry ---------- 24\n",
      "Punjab ---------- 25\n",
      "Rajasthan ---------- 26\n",
      "Sikkim ---------- 27\n",
      "Tamil Nadu ---------- 28\n",
      "Telangana  ---------- 29\n",
      "Tripura ---------- 30\n",
      "Uttar Pradesh ---------- 31\n",
      "Uttarakhand ---------- 32\n",
      "West Bengal ---------- 33\n"
     ]
    }
   ],
   "source": [
    "m = 1\n",
    "\n",
    "for i in s:\n",
    "    agri_data['State_Name'].replace(i,m,inplace=True)\n",
    "    print(i,\"----------\",m)\n",
    "    m+=1"
   ]
  },
  {
   "cell_type": "code",
   "execution_count": 17,
   "metadata": {},
   "outputs": [
    {
     "data": {
      "text/plain": [
       "array([ 1,  2,  3,  4,  5,  6,  7,  8,  9, 10, 11, 12, 13, 14, 15, 16, 17,\n",
       "       18, 19, 20, 21, 22, 23, 24, 25, 26, 27, 28, 29, 30, 31, 32, 33],\n",
       "      dtype=int64)"
      ]
     },
     "execution_count": 17,
     "metadata": {},
     "output_type": "execute_result"
    }
   ],
   "source": [
    "agri_data.State_Name.unique()"
   ]
  },
  {
   "cell_type": "code",
   "execution_count": 18,
   "metadata": {},
   "outputs": [
    {
     "data": {
      "text/html": [
       "<div>\n",
       "<style scoped>\n",
       "    .dataframe tbody tr th:only-of-type {\n",
       "        vertical-align: middle;\n",
       "    }\n",
       "\n",
       "    .dataframe tbody tr th {\n",
       "        vertical-align: top;\n",
       "    }\n",
       "\n",
       "    .dataframe thead th {\n",
       "        text-align: right;\n",
       "    }\n",
       "</style>\n",
       "<table border=\"1\" class=\"dataframe\">\n",
       "  <thead>\n",
       "    <tr style=\"text-align: right;\">\n",
       "      <th></th>\n",
       "      <th>State_Name</th>\n",
       "      <th>District_Name</th>\n",
       "      <th>Season</th>\n",
       "      <th>Crop</th>\n",
       "      <th>Area</th>\n",
       "      <th>Production</th>\n",
       "      <th>yeild per area</th>\n",
       "    </tr>\n",
       "  </thead>\n",
       "  <tbody>\n",
       "    <tr>\n",
       "      <th>0</th>\n",
       "      <td>1</td>\n",
       "      <td>NICOBARS</td>\n",
       "      <td>1</td>\n",
       "      <td>24</td>\n",
       "      <td>102.0</td>\n",
       "      <td>321.0</td>\n",
       "      <td>3.147059</td>\n",
       "    </tr>\n",
       "    <tr>\n",
       "      <th>1</th>\n",
       "      <td>1</td>\n",
       "      <td>NICOBARS</td>\n",
       "      <td>2</td>\n",
       "      <td>1</td>\n",
       "      <td>176.0</td>\n",
       "      <td>641.0</td>\n",
       "      <td>3.642045</td>\n",
       "    </tr>\n",
       "    <tr>\n",
       "      <th>2</th>\n",
       "      <td>1</td>\n",
       "      <td>NICOBARS</td>\n",
       "      <td>2</td>\n",
       "      <td>10</td>\n",
       "      <td>18168.0</td>\n",
       "      <td>65100000.0</td>\n",
       "      <td>3583.223250</td>\n",
       "    </tr>\n",
       "    <tr>\n",
       "      <th>3</th>\n",
       "      <td>1</td>\n",
       "      <td>NICOBARS</td>\n",
       "      <td>2</td>\n",
       "      <td>27</td>\n",
       "      <td>1.0</td>\n",
       "      <td>2.0</td>\n",
       "      <td>2.000000</td>\n",
       "    </tr>\n",
       "    <tr>\n",
       "      <th>4</th>\n",
       "      <td>1</td>\n",
       "      <td>NICOBARS</td>\n",
       "      <td>2</td>\n",
       "      <td>29</td>\n",
       "      <td>5.0</td>\n",
       "      <td>15.0</td>\n",
       "      <td>3.000000</td>\n",
       "    </tr>\n",
       "  </tbody>\n",
       "</table>\n",
       "</div>"
      ],
      "text/plain": [
       "   State_Name District_Name  Season  Crop     Area  Production  yeild per area\n",
       "0           1      NICOBARS       1    24    102.0       321.0        3.147059\n",
       "1           1      NICOBARS       2     1    176.0       641.0        3.642045\n",
       "2           1      NICOBARS       2    10  18168.0  65100000.0     3583.223250\n",
       "3           1      NICOBARS       2    27      1.0         2.0        2.000000\n",
       "4           1      NICOBARS       2    29      5.0        15.0        3.000000"
      ]
     },
     "execution_count": 18,
     "metadata": {},
     "output_type": "execute_result"
    }
   ],
   "source": [
    "agri_data.head()"
   ]
  },
  {
   "cell_type": "code",
   "execution_count": null,
   "metadata": {},
   "outputs": [
    {
     "name": "stdout",
     "output_type": "stream",
     "text": [
      "<class 'pandas.core.frame.DataFrame'>\n",
      "RangeIndex: 74638 entries, 0 to 74637\n",
      "Data columns (total 7 columns):\n",
      "State_Name        74638 non-null int64\n",
      "District_Name     74638 non-null object\n",
      "Season            74638 non-null int64\n",
      "Crop              74638 non-null int64\n",
      "Area              74638 non-null float64\n",
      "Production        74638 non-null float64\n",
      "yeild per area    74638 non-null float64\n",
      "dtypes: float64(3), int64(3), object(1)\n",
      "memory usage: 3.7+ MB\n"
     ]
    }
   ],
   "source": [
    "agri_data.info()"
   ]
  },
  {
   "cell_type": "code",
   "execution_count": null,
   "metadata": {},
   "outputs": [],
   "source": [
    "agri_data.to_excel('dataset\\cleandata.xlsx')"
   ]
  },
  {
   "cell_type": "markdown",
   "metadata": {},
   "source": [
    "# Clustering"
   ]
  },
  {
   "cell_type": "code",
   "execution_count": null,
   "metadata": {},
   "outputs": [],
   "source": [
    "from sklearn.cluster import KMeans"
   ]
  },
  {
   "cell_type": "code",
   "execution_count": null,
   "metadata": {},
   "outputs": [],
   "source": [
    "x = agri_data.iloc[:, [0,2,3,6]].values"
   ]
  },
  {
   "cell_type": "code",
   "execution_count": null,
   "metadata": {},
   "outputs": [
    {
     "data": {
      "text/plain": [
       "array([[1.00000000e+00, 1.00000000e+00, 2.40000000e+01, 3.14705882e+00],\n",
       "       [1.00000000e+00, 2.00000000e+00, 1.00000000e+00, 3.64204545e+00],\n",
       "       [1.00000000e+00, 2.00000000e+00, 1.00000000e+01, 3.58322325e+03],\n",
       "       ...,\n",
       "       [3.30000000e+01, 5.00000000e+00, 2.40000000e+01, 2.61764706e+00],\n",
       "       [3.30000000e+01, 2.00000000e+00, 2.70000000e+01, 5.01543210e+01],\n",
       "       [3.30000000e+01, 6.00000000e+00, 2.40000000e+01, 2.14184796e+00]])"
      ]
     },
     "execution_count": 23,
     "metadata": {},
     "output_type": "execute_result"
    }
   ],
   "source": [
    "x"
   ]
  },
  {
   "cell_type": "code",
   "execution_count": null,
   "metadata": {},
   "outputs": [
    {
     "data": {
      "text/plain": [
       "KMeans(algorithm='auto', copy_x=True, init='k-means++', max_iter=100,\n",
       "       n_clusters=5, n_init=1, n_jobs=None, precompute_distances='auto',\n",
       "       random_state=None, tol=0.0001, verbose=0)"
      ]
     },
     "execution_count": 24,
     "metadata": {},
     "output_type": "execute_result"
    }
   ],
   "source": [
    "model = KMeans(n_clusters=5, init='k-means++', max_iter=100, n_init=1)\n",
    "model.fit(x)"
   ]
  },
  {
   "cell_type": "code",
   "execution_count": null,
   "metadata": {},
   "outputs": [],
   "source": [
    "predict=model.predict(x)"
   ]
  },
  {
   "cell_type": "code",
   "execution_count": null,
   "metadata": {},
   "outputs": [],
   "source": [
    "agri_data['Label'] = pd.Series(predict, index=agri_data.index)"
   ]
  },
  {
   "cell_type": "code",
   "execution_count": null,
   "metadata": {
    "scrolled": false
   },
   "outputs": [
    {
     "data": {
      "text/html": [
       "<div>\n",
       "<style scoped>\n",
       "    .dataframe tbody tr th:only-of-type {\n",
       "        vertical-align: middle;\n",
       "    }\n",
       "\n",
       "    .dataframe tbody tr th {\n",
       "        vertical-align: top;\n",
       "    }\n",
       "\n",
       "    .dataframe thead th {\n",
       "        text-align: right;\n",
       "    }\n",
       "</style>\n",
       "<table border=\"1\" class=\"dataframe\">\n",
       "  <thead>\n",
       "    <tr style=\"text-align: right;\">\n",
       "      <th></th>\n",
       "      <th>State_Name</th>\n",
       "      <th>District_Name</th>\n",
       "      <th>Season</th>\n",
       "      <th>Crop</th>\n",
       "      <th>Area</th>\n",
       "      <th>Production</th>\n",
       "      <th>yeild per area</th>\n",
       "      <th>Label</th>\n",
       "    </tr>\n",
       "  </thead>\n",
       "  <tbody>\n",
       "    <tr>\n",
       "      <th>0</th>\n",
       "      <td>1</td>\n",
       "      <td>NICOBARS</td>\n",
       "      <td>1</td>\n",
       "      <td>24</td>\n",
       "      <td>102.0</td>\n",
       "      <td>321.0</td>\n",
       "      <td>3.147059</td>\n",
       "      <td>0</td>\n",
       "    </tr>\n",
       "    <tr>\n",
       "      <th>1</th>\n",
       "      <td>1</td>\n",
       "      <td>NICOBARS</td>\n",
       "      <td>2</td>\n",
       "      <td>1</td>\n",
       "      <td>176.0</td>\n",
       "      <td>641.0</td>\n",
       "      <td>3.642045</td>\n",
       "      <td>0</td>\n",
       "    </tr>\n",
       "    <tr>\n",
       "      <th>2</th>\n",
       "      <td>1</td>\n",
       "      <td>NICOBARS</td>\n",
       "      <td>2</td>\n",
       "      <td>10</td>\n",
       "      <td>18168.0</td>\n",
       "      <td>65100000.0</td>\n",
       "      <td>3583.223250</td>\n",
       "      <td>4</td>\n",
       "    </tr>\n",
       "    <tr>\n",
       "      <th>3</th>\n",
       "      <td>1</td>\n",
       "      <td>NICOBARS</td>\n",
       "      <td>2</td>\n",
       "      <td>27</td>\n",
       "      <td>1.0</td>\n",
       "      <td>2.0</td>\n",
       "      <td>2.000000</td>\n",
       "      <td>0</td>\n",
       "    </tr>\n",
       "    <tr>\n",
       "      <th>4</th>\n",
       "      <td>1</td>\n",
       "      <td>NICOBARS</td>\n",
       "      <td>2</td>\n",
       "      <td>29</td>\n",
       "      <td>5.0</td>\n",
       "      <td>15.0</td>\n",
       "      <td>3.000000</td>\n",
       "      <td>0</td>\n",
       "    </tr>\n",
       "  </tbody>\n",
       "</table>\n",
       "</div>"
      ],
      "text/plain": [
       "   State_Name District_Name  Season  Crop     Area  Production  \\\n",
       "0           1      NICOBARS       1    24    102.0       321.0   \n",
       "1           1      NICOBARS       2     1    176.0       641.0   \n",
       "2           1      NICOBARS       2    10  18168.0  65100000.0   \n",
       "3           1      NICOBARS       2    27      1.0         2.0   \n",
       "4           1      NICOBARS       2    29      5.0        15.0   \n",
       "\n",
       "   yeild per area  Label  \n",
       "0        3.147059      0  \n",
       "1        3.642045      0  \n",
       "2     3583.223250      4  \n",
       "3        2.000000      0  \n",
       "4        3.000000      0  "
      ]
     },
     "execution_count": 27,
     "metadata": {},
     "output_type": "execute_result"
    }
   ],
   "source": [
    "agri_data.head()"
   ]
  },
  {
   "cell_type": "code",
   "execution_count": null,
   "metadata": {},
   "outputs": [
    {
     "data": {
      "text/plain": [
       "array([0, 4, 3, 1, 2], dtype=int64)"
      ]
     },
     "execution_count": 28,
     "metadata": {},
     "output_type": "execute_result"
    }
   ],
   "source": [
    "agri_data.Label.unique()"
   ]
  },
  {
   "cell_type": "markdown",
   "metadata": {},
   "source": [
    "# Data Analysis"
   ]
  },
  {
   "cell_type": "code",
   "execution_count": null,
   "metadata": {
    "scrolled": false
   },
   "outputs": [
    {
     "data": {
      "text/plain": [
       "<matplotlib.axes._subplots.AxesSubplot at 0xc63afb0>"
      ]
     },
     "execution_count": 29,
     "metadata": {},
     "output_type": "execute_result"
    },
    {
     "data": {
      "image/png": "[encoded data removed]",
      "text/plain": [
       "<Figure size 1500x700 with 1 Axes>"
      ]
     },
     "metadata": {
      "needs_background": "light"
     },
     "output_type": "display_data"
    }
   ],
   "source": [
    "plt.figure(figsize=(15,7), dpi=100)\n",
    "sns.countplot(x='Season',hue='Crop',data=agri_data, palette='Set1')"
   ]
  },
  {
   "cell_type": "code",
   "execution_count": null,
   "metadata": {},
   "outputs": [
    {
     "data": {
      "text/html": [
       "<div>\n",
       "<style scoped>\n",
       "    .dataframe tbody tr th:only-of-type {\n",
       "        vertical-align: middle;\n",
       "    }\n",
       "\n",
       "    .dataframe tbody tr th {\n",
       "        vertical-align: top;\n",
       "    }\n",
       "\n",
       "    .dataframe thead th {\n",
       "        text-align: right;\n",
       "    }\n",
       "</style>\n",
       "<table border=\"1\" class=\"dataframe\">\n",
       "  <thead>\n",
       "    <tr style=\"text-align: right;\">\n",
       "      <th></th>\n",
       "      <th>State_Name</th>\n",
       "      <th>Season</th>\n",
       "      <th>Crop</th>\n",
       "      <th>Area</th>\n",
       "      <th>Production</th>\n",
       "      <th>yeild per area</th>\n",
       "    </tr>\n",
       "    <tr>\n",
       "      <th>Label</th>\n",
       "      <th></th>\n",
       "      <th></th>\n",
       "      <th></th>\n",
       "      <th></th>\n",
       "      <th></th>\n",
       "      <th></th>\n",
       "    </tr>\n",
       "  </thead>\n",
       "  <tbody>\n",
       "    <tr>\n",
       "      <th>0</th>\n",
       "      <td>1355143</td>\n",
       "      <td>191887</td>\n",
       "      <td>1619250</td>\n",
       "      <td>1.545754e+09</td>\n",
       "      <td>9.918852e+09</td>\n",
       "      <td>9.798297e+05</td>\n",
       "    </tr>\n",
       "    <tr>\n",
       "      <th>1</th>\n",
       "      <td>828</td>\n",
       "      <td>122</td>\n",
       "      <td>627</td>\n",
       "      <td>4.296080e+05</td>\n",
       "      <td>8.437760e+09</td>\n",
       "      <td>1.205045e+06</td>\n",
       "    </tr>\n",
       "    <tr>\n",
       "      <th>2</th>\n",
       "      <td>350</td>\n",
       "      <td>28</td>\n",
       "      <td>378</td>\n",
       "      <td>7.900000e+01</td>\n",
       "      <td>5.613000e+06</td>\n",
       "      <td>1.027589e+06</td>\n",
       "    </tr>\n",
       "    <tr>\n",
       "      <th>3</th>\n",
       "      <td>4617</td>\n",
       "      <td>632</td>\n",
       "      <td>3158</td>\n",
       "      <td>2.432402e+06</td>\n",
       "      <td>2.735287e+10</td>\n",
       "      <td>3.538977e+06</td>\n",
       "    </tr>\n",
       "    <tr>\n",
       "      <th>4</th>\n",
       "      <td>5394</td>\n",
       "      <td>1014</td>\n",
       "      <td>5070</td>\n",
       "      <td>1.437045e+07</td>\n",
       "      <td>9.391213e+10</td>\n",
       "      <td>3.107065e+06</td>\n",
       "    </tr>\n",
       "  </tbody>\n",
       "</table>\n",
       "</div>"
      ],
      "text/plain": [
       "       State_Name  Season     Crop          Area    Production  yeild per area\n",
       "Label                                                                         \n",
       "0         1355143  191887  1619250  1.545754e+09  9.918852e+09    9.798297e+05\n",
       "1             828     122      627  4.296080e+05  8.437760e+09    1.205045e+06\n",
       "2             350      28      378  7.900000e+01  5.613000e+06    1.027589e+06\n",
       "3            4617     632     3158  2.432402e+06  2.735287e+10    3.538977e+06\n",
       "4            5394    1014     5070  1.437045e+07  9.391213e+10    3.107065e+06"
      ]
     },
     "execution_count": 30,
     "metadata": {},
     "output_type": "execute_result"
    }
   ],
   "source": [
    "agri_data.groupby('Label').sum()"
   ]
  },
  {
   "cell_type": "code",
   "execution_count": null,
   "metadata": {},
   "outputs": [],
   "source": [
    "a = 13551\n",
    "b = 4617\n",
    "c = 350\n",
    "d = 5394\n",
    "e = 828"
   ]
  },
  {
   "cell_type": "code",
   "execution_count": null,
   "metadata": {},
   "outputs": [
    {
     "data": {
      "image/png": "[encoded data removed]",
      "text/plain": [
       "<Figure size 432x288 with 1 Axes>"
      ]
     },
     "metadata": {},
     "output_type": "display_data"
    }
   ],
   "source": [
    "clu = 'Poor', 'Average', 'Good', 'Very Good', 'Excellent'\n",
    "count = [a, b, c, d, e]\n",
    "\n",
    "ex = [0.1, 0, 0, 0, 0]\n",
    "\n",
    "fig1, ax1 = plt.subplots()\n",
    "ax1.pie(count, explode=ex, labels=clu, autopct='%1.2f%%', shadow=True, startangle=90)\n",
    "#ax1.pie(marks, labels=student, autopct='%1.0f%%', shadow=True, startangle=90)\n",
    "ax1.axis('equal')\n",
    "plt.show()"
   ]
  },
  {
   "cell_type": "code",
   "execution_count": null,
   "metadata": {},
   "outputs": [],
   "source": [
    "agri_data.to_excel('dataset\\cluster_data.xlsx')"
   ]
  },
  {
   "cell_type": "code",
   "execution_count": null,
   "metadata": {
    "scrolled": true
   },
   "outputs": [
    {
     "data": {
      "image/png": "[encoded data removed]",
      "text/plain": [
       "<Figure size 432x288 with 1 Axes>"
      ]
     },
     "metadata": {
      "needs_background": "light"
     },
     "output_type": "display_data"
    }
   ],
   "source": [
    "plt.scatter(x[:, 0], x[:, 3], c=predict, s=50, cmap='viridis')\n",
    "\n",
    "centers = model.cluster_centers_\n",
    "plt.scatter(centers[:, 0], centers[:, 3], c='black', s=200, alpha=0.5);"
   ]
  },
  {
   "cell_type": "markdown",
   "metadata": {},
   "source": [
    "# Machine Learning Algorithums"
   ]
  },
  {
   "cell_type": "code",
   "execution_count": null,
   "metadata": {},
   "outputs": [
    {
     "data": {
      "text/html": [
       "<div>\n",
       "<style scoped>\n",
       "    .dataframe tbody tr th:only-of-type {\n",
       "        vertical-align: middle;\n",
       "    }\n",
       "\n",
       "    .dataframe tbody tr th {\n",
       "        vertical-align: top;\n",
       "    }\n",
       "\n",
       "    .dataframe thead th {\n",
       "        text-align: right;\n",
       "    }\n",
       "</style>\n",
       "<table border=\"1\" class=\"dataframe\">\n",
       "  <thead>\n",
       "    <tr style=\"text-align: right;\">\n",
       "      <th></th>\n",
       "      <th>State_Name</th>\n",
       "      <th>District_Name</th>\n",
       "      <th>Season</th>\n",
       "      <th>Crop</th>\n",
       "      <th>Area</th>\n",
       "      <th>Production</th>\n",
       "      <th>yeild per area</th>\n",
       "      <th>Label</th>\n",
       "    </tr>\n",
       "  </thead>\n",
       "  <tbody>\n",
       "    <tr>\n",
       "      <th>0</th>\n",
       "      <td>1</td>\n",
       "      <td>NICOBARS</td>\n",
       "      <td>1</td>\n",
       "      <td>24</td>\n",
       "      <td>102.00</td>\n",
       "      <td>321.00</td>\n",
       "      <td>3.147059</td>\n",
       "      <td>0</td>\n",
       "    </tr>\n",
       "    <tr>\n",
       "      <th>1</th>\n",
       "      <td>1</td>\n",
       "      <td>NICOBARS</td>\n",
       "      <td>2</td>\n",
       "      <td>1</td>\n",
       "      <td>176.00</td>\n",
       "      <td>641.00</td>\n",
       "      <td>3.642045</td>\n",
       "      <td>0</td>\n",
       "    </tr>\n",
       "    <tr>\n",
       "      <th>2</th>\n",
       "      <td>1</td>\n",
       "      <td>NICOBARS</td>\n",
       "      <td>2</td>\n",
       "      <td>10</td>\n",
       "      <td>18168.00</td>\n",
       "      <td>65100000.00</td>\n",
       "      <td>3583.223250</td>\n",
       "      <td>4</td>\n",
       "    </tr>\n",
       "    <tr>\n",
       "      <th>3</th>\n",
       "      <td>1</td>\n",
       "      <td>NICOBARS</td>\n",
       "      <td>2</td>\n",
       "      <td>27</td>\n",
       "      <td>1.00</td>\n",
       "      <td>2.00</td>\n",
       "      <td>2.000000</td>\n",
       "      <td>0</td>\n",
       "    </tr>\n",
       "    <tr>\n",
       "      <th>4</th>\n",
       "      <td>1</td>\n",
       "      <td>NICOBARS</td>\n",
       "      <td>2</td>\n",
       "      <td>29</td>\n",
       "      <td>5.00</td>\n",
       "      <td>15.00</td>\n",
       "      <td>3.000000</td>\n",
       "      <td>0</td>\n",
       "    </tr>\n",
       "    <tr>\n",
       "      <th>5</th>\n",
       "      <td>1</td>\n",
       "      <td>NICOBARS</td>\n",
       "      <td>1</td>\n",
       "      <td>24</td>\n",
       "      <td>83.00</td>\n",
       "      <td>300.00</td>\n",
       "      <td>3.614458</td>\n",
       "      <td>0</td>\n",
       "    </tr>\n",
       "    <tr>\n",
       "      <th>6</th>\n",
       "      <td>1</td>\n",
       "      <td>NICOBARS</td>\n",
       "      <td>2</td>\n",
       "      <td>10</td>\n",
       "      <td>18190.00</td>\n",
       "      <td>64430000.00</td>\n",
       "      <td>3542.056075</td>\n",
       "      <td>4</td>\n",
       "    </tr>\n",
       "    <tr>\n",
       "      <th>7</th>\n",
       "      <td>1</td>\n",
       "      <td>NICOBARS</td>\n",
       "      <td>2</td>\n",
       "      <td>27</td>\n",
       "      <td>1.00</td>\n",
       "      <td>1.00</td>\n",
       "      <td>1.000000</td>\n",
       "      <td>0</td>\n",
       "    </tr>\n",
       "    <tr>\n",
       "      <th>8</th>\n",
       "      <td>1</td>\n",
       "      <td>NICOBARS</td>\n",
       "      <td>2</td>\n",
       "      <td>29</td>\n",
       "      <td>11.00</td>\n",
       "      <td>33.00</td>\n",
       "      <td>3.000000</td>\n",
       "      <td>0</td>\n",
       "    </tr>\n",
       "    <tr>\n",
       "      <th>9</th>\n",
       "      <td>1</td>\n",
       "      <td>NICOBARS</td>\n",
       "      <td>1</td>\n",
       "      <td>24</td>\n",
       "      <td>189.20</td>\n",
       "      <td>510.84</td>\n",
       "      <td>2.700000</td>\n",
       "      <td>0</td>\n",
       "    </tr>\n",
       "    <tr>\n",
       "      <th>10</th>\n",
       "      <td>1</td>\n",
       "      <td>NICOBARS</td>\n",
       "      <td>2</td>\n",
       "      <td>1</td>\n",
       "      <td>213.00</td>\n",
       "      <td>1278.00</td>\n",
       "      <td>6.000000</td>\n",
       "      <td>0</td>\n",
       "    </tr>\n",
       "    <tr>\n",
       "      <th>11</th>\n",
       "      <td>1</td>\n",
       "      <td>NICOBARS</td>\n",
       "      <td>2</td>\n",
       "      <td>10</td>\n",
       "      <td>18240.00</td>\n",
       "      <td>67490000.00</td>\n",
       "      <td>3700.109649</td>\n",
       "      <td>4</td>\n",
       "    </tr>\n",
       "    <tr>\n",
       "      <th>12</th>\n",
       "      <td>1</td>\n",
       "      <td>NICOBARS</td>\n",
       "      <td>2</td>\n",
       "      <td>27</td>\n",
       "      <td>5.00</td>\n",
       "      <td>40.00</td>\n",
       "      <td>8.000000</td>\n",
       "      <td>0</td>\n",
       "    </tr>\n",
       "    <tr>\n",
       "      <th>13</th>\n",
       "      <td>1</td>\n",
       "      <td>NICOBARS</td>\n",
       "      <td>1</td>\n",
       "      <td>24</td>\n",
       "      <td>52.00</td>\n",
       "      <td>90.17</td>\n",
       "      <td>1.734038</td>\n",
       "      <td>0</td>\n",
       "    </tr>\n",
       "    <tr>\n",
       "      <th>14</th>\n",
       "      <td>1</td>\n",
       "      <td>NICOBARS</td>\n",
       "      <td>2</td>\n",
       "      <td>1</td>\n",
       "      <td>266.00</td>\n",
       "      <td>1763.00</td>\n",
       "      <td>6.627820</td>\n",
       "      <td>0</td>\n",
       "    </tr>\n",
       "    <tr>\n",
       "      <th>15</th>\n",
       "      <td>1</td>\n",
       "      <td>NICOBARS</td>\n",
       "      <td>2</td>\n",
       "      <td>10</td>\n",
       "      <td>18284.74</td>\n",
       "      <td>68580000.00</td>\n",
       "      <td>3750.668590</td>\n",
       "      <td>4</td>\n",
       "    </tr>\n",
       "    <tr>\n",
       "      <th>16</th>\n",
       "      <td>1</td>\n",
       "      <td>NICOBARS</td>\n",
       "      <td>2</td>\n",
       "      <td>12</td>\n",
       "      <td>60.00</td>\n",
       "      <td>102.00</td>\n",
       "      <td>1.700000</td>\n",
       "      <td>0</td>\n",
       "    </tr>\n",
       "    <tr>\n",
       "      <th>17</th>\n",
       "      <td>1</td>\n",
       "      <td>NICOBARS</td>\n",
       "      <td>1</td>\n",
       "      <td>24</td>\n",
       "      <td>52.94</td>\n",
       "      <td>72.57</td>\n",
       "      <td>1.370797</td>\n",
       "      <td>0</td>\n",
       "    </tr>\n",
       "    <tr>\n",
       "      <th>18</th>\n",
       "      <td>1</td>\n",
       "      <td>NICOBARS</td>\n",
       "      <td>2</td>\n",
       "      <td>1</td>\n",
       "      <td>66.42</td>\n",
       "      <td>404.12</td>\n",
       "      <td>6.084312</td>\n",
       "      <td>0</td>\n",
       "    </tr>\n",
       "    <tr>\n",
       "      <th>19</th>\n",
       "      <td>1</td>\n",
       "      <td>NICOBARS</td>\n",
       "      <td>2</td>\n",
       "      <td>10</td>\n",
       "      <td>18394.70</td>\n",
       "      <td>52380000.00</td>\n",
       "      <td>2847.559351</td>\n",
       "      <td>0</td>\n",
       "    </tr>\n",
       "  </tbody>\n",
       "</table>\n",
       "</div>"
      ],
      "text/plain": [
       "    State_Name District_Name  Season  Crop      Area   Production  \\\n",
       "0            1      NICOBARS       1    24    102.00       321.00   \n",
       "1            1      NICOBARS       2     1    176.00       641.00   \n",
       "2            1      NICOBARS       2    10  18168.00  65100000.00   \n",
       "3            1      NICOBARS       2    27      1.00         2.00   \n",
       "4            1      NICOBARS       2    29      5.00        15.00   \n",
       "5            1      NICOBARS       1    24     83.00       300.00   \n",
       "6            1      NICOBARS       2    10  18190.00  64430000.00   \n",
       "7            1      NICOBARS       2    27      1.00         1.00   \n",
       "8            1      NICOBARS       2    29     11.00        33.00   \n",
       "9            1      NICOBARS       1    24    189.20       510.84   \n",
       "10           1      NICOBARS       2     1    213.00      1278.00   \n",
       "11           1      NICOBARS       2    10  18240.00  67490000.00   \n",
       "12           1      NICOBARS       2    27      5.00        40.00   \n",
       "13           1      NICOBARS       1    24     52.00        90.17   \n",
       "14           1      NICOBARS       2     1    266.00      1763.00   \n",
       "15           1      NICOBARS       2    10  18284.74  68580000.00   \n",
       "16           1      NICOBARS       2    12     60.00       102.00   \n",
       "17           1      NICOBARS       1    24     52.94        72.57   \n",
       "18           1      NICOBARS       2     1     66.42       404.12   \n",
       "19           1      NICOBARS       2    10  18394.70  52380000.00   \n",
       "\n",
       "    yeild per area  Label  \n",
       "0         3.147059      0  \n",
       "1         3.642045      0  \n",
       "2      3583.223250      4  \n",
       "3         2.000000      0  \n",
       "4         3.000000      0  \n",
       "5         3.614458      0  \n",
       "6      3542.056075      4  \n",
       "7         1.000000      0  \n",
       "8         3.000000      0  \n",
       "9         2.700000      0  \n",
       "10        6.000000      0  \n",
       "11     3700.109649      4  \n",
       "12        8.000000      0  \n",
       "13        1.734038      0  \n",
       "14        6.627820      0  \n",
       "15     3750.668590      4  \n",
       "16        1.700000      0  \n",
       "17        1.370797      0  \n",
       "18        6.084312      0  \n",
       "19     2847.559351      0  "
      ]
     },
     "execution_count": 35,
     "metadata": {},
     "output_type": "execute_result"
    }
   ],
   "source": [
    "agri_data.head(20)"
   ]
  },
  {
   "cell_type": "code",
   "execution_count": null,
   "metadata": {},
   "outputs": [],
   "source": [
    "agri_data['Label'].replace(0,'Poor',inplace=True)\n",
    "agri_data['Label'].replace(1,'good',inplace=True)\n",
    "agri_data['Label'].replace(2,'Excellent',inplace=True)\n",
    "agri_data['Label'].replace(3,'Average',inplace=True)\n",
    "agri_data['Label'].replace(4,'Very Good',inplace=True)"
   ]
  },
  {
   "cell_type": "code",
   "execution_count": null,
   "metadata": {
    "scrolled": true
   },
   "outputs": [
    {
     "data": {
      "text/html": [
       "<div>\n",
       "<style scoped>\n",
       "    .dataframe tbody tr th:only-of-type {\n",
       "        vertical-align: middle;\n",
       "    }\n",
       "\n",
       "    .dataframe tbody tr th {\n",
       "        vertical-align: top;\n",
       "    }\n",
       "\n",
       "    .dataframe thead th {\n",
       "        text-align: right;\n",
       "    }\n",
       "</style>\n",
       "<table border=\"1\" class=\"dataframe\">\n",
       "  <thead>\n",
       "    <tr style=\"text-align: right;\">\n",
       "      <th></th>\n",
       "      <th>State_Name</th>\n",
       "      <th>District_Name</th>\n",
       "      <th>Season</th>\n",
       "      <th>Crop</th>\n",
       "      <th>Area</th>\n",
       "      <th>Production</th>\n",
       "      <th>yeild per area</th>\n",
       "      <th>Label</th>\n",
       "    </tr>\n",
       "  </thead>\n",
       "  <tbody>\n",
       "    <tr>\n",
       "      <th>74633</th>\n",
       "      <td>33</td>\n",
       "      <td>PURULIA</td>\n",
       "      <td>4</td>\n",
       "      <td>22</td>\n",
       "      <td>477.0</td>\n",
       "      <td>9995.0</td>\n",
       "      <td>20.953878</td>\n",
       "      <td>Poor</td>\n",
       "    </tr>\n",
       "    <tr>\n",
       "      <th>74634</th>\n",
       "      <td>33</td>\n",
       "      <td>PURULIA</td>\n",
       "      <td>4</td>\n",
       "      <td>33</td>\n",
       "      <td>1622.0</td>\n",
       "      <td>3663.0</td>\n",
       "      <td>2.258323</td>\n",
       "      <td>Poor</td>\n",
       "    </tr>\n",
       "    <tr>\n",
       "      <th>74635</th>\n",
       "      <td>33</td>\n",
       "      <td>PURULIA</td>\n",
       "      <td>5</td>\n",
       "      <td>24</td>\n",
       "      <td>306.0</td>\n",
       "      <td>801.0</td>\n",
       "      <td>2.617647</td>\n",
       "      <td>Poor</td>\n",
       "    </tr>\n",
       "    <tr>\n",
       "      <th>74636</th>\n",
       "      <td>33</td>\n",
       "      <td>PURULIA</td>\n",
       "      <td>2</td>\n",
       "      <td>27</td>\n",
       "      <td>324.0</td>\n",
       "      <td>16250.0</td>\n",
       "      <td>50.154321</td>\n",
       "      <td>Poor</td>\n",
       "    </tr>\n",
       "    <tr>\n",
       "      <th>74637</th>\n",
       "      <td>33</td>\n",
       "      <td>PURULIA</td>\n",
       "      <td>6</td>\n",
       "      <td>24</td>\n",
       "      <td>279151.0</td>\n",
       "      <td>597899.0</td>\n",
       "      <td>2.141848</td>\n",
       "      <td>Poor</td>\n",
       "    </tr>\n",
       "  </tbody>\n",
       "</table>\n",
       "</div>"
      ],
      "text/plain": [
       "       State_Name District_Name  Season  Crop      Area  Production  \\\n",
       "74633          33       PURULIA       4    22     477.0      9995.0   \n",
       "74634          33       PURULIA       4    33    1622.0      3663.0   \n",
       "74635          33       PURULIA       5    24     306.0       801.0   \n",
       "74636          33       PURULIA       2    27     324.0     16250.0   \n",
       "74637          33       PURULIA       6    24  279151.0    597899.0   \n",
       "\n",
       "       yeild per area Label  \n",
       "74633       20.953878  Poor  \n",
       "74634        2.258323  Poor  \n",
       "74635        2.617647  Poor  \n",
       "74636       50.154321  Poor  \n",
       "74637        2.141848  Poor  "
      ]
     },
     "execution_count": 37,
     "metadata": {},
     "output_type": "execute_result"
    }
   ],
   "source": [
    "agri_data.tail()"
   ]
  },
  {
   "cell_type": "code",
   "execution_count": null,
   "metadata": {},
   "outputs": [
    {
     "data": {
      "text/plain": [
       "array(['Poor', 'Very Good', 'Average', 'good', 'Excellent'], dtype=object)"
      ]
     },
     "execution_count": 38,
     "metadata": {},
     "output_type": "execute_result"
    }
   ],
   "source": [
    "agri_data.Label.unique()"
   ]
  },
  {
   "cell_type": "code",
   "execution_count": null,
   "metadata": {},
   "outputs": [],
   "source": [
    "agri_data['Label'].replace('Poor',0,inplace=True)\n",
    "agri_data['Label'].replace('Average',1,inplace=True)\n",
    "agri_data['Label'].replace('good',2,inplace=True)\n",
    "agri_data['Label'].replace('Excellent',3,inplace=True)\n",
    "agri_data['Label'].replace('Very Good', 4,inplace=True)"
   ]
  },
  {
   "cell_type": "code",
   "execution_count": null,
   "metadata": {},
   "outputs": [
    {
     "data": {
      "text/html": [
       "<div>\n",
       "<style scoped>\n",
       "    .dataframe tbody tr th:only-of-type {\n",
       "        vertical-align: middle;\n",
       "    }\n",
       "\n",
       "    .dataframe tbody tr th {\n",
       "        vertical-align: top;\n",
       "    }\n",
       "\n",
       "    .dataframe thead th {\n",
       "        text-align: right;\n",
       "    }\n",
       "</style>\n",
       "<table border=\"1\" class=\"dataframe\">\n",
       "  <thead>\n",
       "    <tr style=\"text-align: right;\">\n",
       "      <th></th>\n",
       "      <th>State_Name</th>\n",
       "      <th>District_Name</th>\n",
       "      <th>Season</th>\n",
       "      <th>Crop</th>\n",
       "      <th>Area</th>\n",
       "      <th>Production</th>\n",
       "      <th>yeild per area</th>\n",
       "      <th>Label</th>\n",
       "    </tr>\n",
       "  </thead>\n",
       "  <tbody>\n",
       "    <tr>\n",
       "      <th>0</th>\n",
       "      <td>1</td>\n",
       "      <td>NICOBARS</td>\n",
       "      <td>1</td>\n",
       "      <td>24</td>\n",
       "      <td>102.0</td>\n",
       "      <td>321.0</td>\n",
       "      <td>3.147059</td>\n",
       "      <td>0</td>\n",
       "    </tr>\n",
       "    <tr>\n",
       "      <th>1</th>\n",
       "      <td>1</td>\n",
       "      <td>NICOBARS</td>\n",
       "      <td>2</td>\n",
       "      <td>1</td>\n",
       "      <td>176.0</td>\n",
       "      <td>641.0</td>\n",
       "      <td>3.642045</td>\n",
       "      <td>0</td>\n",
       "    </tr>\n",
       "    <tr>\n",
       "      <th>2</th>\n",
       "      <td>1</td>\n",
       "      <td>NICOBARS</td>\n",
       "      <td>2</td>\n",
       "      <td>10</td>\n",
       "      <td>18168.0</td>\n",
       "      <td>65100000.0</td>\n",
       "      <td>3583.223250</td>\n",
       "      <td>4</td>\n",
       "    </tr>\n",
       "    <tr>\n",
       "      <th>3</th>\n",
       "      <td>1</td>\n",
       "      <td>NICOBARS</td>\n",
       "      <td>2</td>\n",
       "      <td>27</td>\n",
       "      <td>1.0</td>\n",
       "      <td>2.0</td>\n",
       "      <td>2.000000</td>\n",
       "      <td>0</td>\n",
       "    </tr>\n",
       "    <tr>\n",
       "      <th>4</th>\n",
       "      <td>1</td>\n",
       "      <td>NICOBARS</td>\n",
       "      <td>2</td>\n",
       "      <td>29</td>\n",
       "      <td>5.0</td>\n",
       "      <td>15.0</td>\n",
       "      <td>3.000000</td>\n",
       "      <td>0</td>\n",
       "    </tr>\n",
       "  </tbody>\n",
       "</table>\n",
       "</div>"
      ],
      "text/plain": [
       "   State_Name District_Name  Season  Crop     Area  Production  \\\n",
       "0           1      NICOBARS       1    24    102.0       321.0   \n",
       "1           1      NICOBARS       2     1    176.0       641.0   \n",
       "2           1      NICOBARS       2    10  18168.0  65100000.0   \n",
       "3           1      NICOBARS       2    27      1.0         2.0   \n",
       "4           1      NICOBARS       2    29      5.0        15.0   \n",
       "\n",
       "   yeild per area  Label  \n",
       "0        3.147059      0  \n",
       "1        3.642045      0  \n",
       "2     3583.223250      4  \n",
       "3        2.000000      0  \n",
       "4        3.000000      0  "
      ]
     },
     "execution_count": 40,
     "metadata": {},
     "output_type": "execute_result"
    }
   ],
   "source": [
    "agri_data.head()"
   ]
  },
  {
   "cell_type": "markdown",
   "metadata": {},
   "source": [
    "# Train Test Split"
   ]
  },
  {
   "cell_type": "code",
   "execution_count": null,
   "metadata": {},
   "outputs": [],
   "source": [
    "from sklearn.model_selection import train_test_split"
   ]
  },
  {
   "cell_type": "code",
   "execution_count": null,
   "metadata": {
    "scrolled": true
   },
   "outputs": [
    {
     "data": {
      "text/html": [
       "<div>\n",
       "<style scoped>\n",
       "    .dataframe tbody tr th:only-of-type {\n",
       "        vertical-align: middle;\n",
       "    }\n",
       "\n",
       "    .dataframe tbody tr th {\n",
       "        vertical-align: top;\n",
       "    }\n",
       "\n",
       "    .dataframe thead th {\n",
       "        text-align: right;\n",
       "    }\n",
       "</style>\n",
       "<table border=\"1\" class=\"dataframe\">\n",
       "  <thead>\n",
       "    <tr style=\"text-align: right;\">\n",
       "      <th></th>\n",
       "      <th>State_Name</th>\n",
       "      <th>Season</th>\n",
       "      <th>Crop</th>\n",
       "      <th>yeild per area</th>\n",
       "    </tr>\n",
       "  </thead>\n",
       "  <tbody>\n",
       "    <tr>\n",
       "      <th>9598</th>\n",
       "      <td>4</td>\n",
       "      <td>2</td>\n",
       "      <td>29</td>\n",
       "      <td>3.383486</td>\n",
       "    </tr>\n",
       "    <tr>\n",
       "      <th>69193</th>\n",
       "      <td>31</td>\n",
       "      <td>5</td>\n",
       "      <td>1</td>\n",
       "      <td>43.500000</td>\n",
       "    </tr>\n",
       "    <tr>\n",
       "      <th>53472</th>\n",
       "      <td>28</td>\n",
       "      <td>1</td>\n",
       "      <td>28</td>\n",
       "      <td>1.626667</td>\n",
       "    </tr>\n",
       "    <tr>\n",
       "      <th>73205</th>\n",
       "      <td>33</td>\n",
       "      <td>2</td>\n",
       "      <td>27</td>\n",
       "      <td>106.990868</td>\n",
       "    </tr>\n",
       "    <tr>\n",
       "      <th>59392</th>\n",
       "      <td>29</td>\n",
       "      <td>2</td>\n",
       "      <td>32</td>\n",
       "      <td>4.543032</td>\n",
       "    </tr>\n",
       "    <tr>\n",
       "      <th>46703</th>\n",
       "      <td>23</td>\n",
       "      <td>6</td>\n",
       "      <td>27</td>\n",
       "      <td>64.250000</td>\n",
       "    </tr>\n",
       "    <tr>\n",
       "      <th>56195</th>\n",
       "      <td>28</td>\n",
       "      <td>2</td>\n",
       "      <td>1</td>\n",
       "      <td>44.452736</td>\n",
       "    </tr>\n",
       "    <tr>\n",
       "      <th>66996</th>\n",
       "      <td>31</td>\n",
       "      <td>5</td>\n",
       "      <td>18</td>\n",
       "      <td>11.642857</td>\n",
       "    </tr>\n",
       "    <tr>\n",
       "      <th>34482</th>\n",
       "      <td>17</td>\n",
       "      <td>1</td>\n",
       "      <td>24</td>\n",
       "      <td>2.347105</td>\n",
       "    </tr>\n",
       "    <tr>\n",
       "      <th>30925</th>\n",
       "      <td>16</td>\n",
       "      <td>2</td>\n",
       "      <td>32</td>\n",
       "      <td>2.278560</td>\n",
       "    </tr>\n",
       "  </tbody>\n",
       "</table>\n",
       "</div>"
      ],
      "text/plain": [
       "       State_Name  Season  Crop  yeild per area\n",
       "9598            4       2    29        3.383486\n",
       "69193          31       5     1       43.500000\n",
       "53472          28       1    28        1.626667\n",
       "73205          33       2    27      106.990868\n",
       "59392          29       2    32        4.543032\n",
       "46703          23       6    27       64.250000\n",
       "56195          28       2     1       44.452736\n",
       "66996          31       5    18       11.642857\n",
       "34482          17       1    24        2.347105\n",
       "30925          16       2    32        2.278560"
      ]
     },
     "execution_count": 42,
     "metadata": {},
     "output_type": "execute_result"
    }
   ],
   "source": [
    "X = agri_data.drop(['Label','District_Name','Area','Production'], axis=1)\n",
    "y = agri_data['Label']\n",
    "X_train, X_test, y_train, y_test = train_test_split(X, y, test_size=0.20, random_state=101)\n",
    "X_train.head(10)"
   ]
  },
  {
   "cell_type": "code",
   "execution_count": null,
   "metadata": {},
   "outputs": [
    {
     "data": {
      "text/html": [
       "<div>\n",
       "<style scoped>\n",
       "    .dataframe tbody tr th:only-of-type {\n",
       "        vertical-align: middle;\n",
       "    }\n",
       "\n",
       "    .dataframe tbody tr th {\n",
       "        vertical-align: top;\n",
       "    }\n",
       "\n",
       "    .dataframe thead th {\n",
       "        text-align: right;\n",
       "    }\n",
       "</style>\n",
       "<table border=\"1\" class=\"dataframe\">\n",
       "  <thead>\n",
       "    <tr style=\"text-align: right;\">\n",
       "      <th></th>\n",
       "      <th>State_Name</th>\n",
       "      <th>Season</th>\n",
       "      <th>Crop</th>\n",
       "      <th>yeild per area</th>\n",
       "    </tr>\n",
       "  </thead>\n",
       "  <tbody>\n",
       "    <tr>\n",
       "      <th>73037</th>\n",
       "      <td>33</td>\n",
       "      <td>2</td>\n",
       "      <td>10</td>\n",
       "      <td>9819.915254</td>\n",
       "    </tr>\n",
       "    <tr>\n",
       "      <th>57076</th>\n",
       "      <td>28</td>\n",
       "      <td>2</td>\n",
       "      <td>32</td>\n",
       "      <td>5.479452</td>\n",
       "    </tr>\n",
       "    <tr>\n",
       "      <th>56884</th>\n",
       "      <td>28</td>\n",
       "      <td>1</td>\n",
       "      <td>14</td>\n",
       "      <td>1.396060</td>\n",
       "    </tr>\n",
       "    <tr>\n",
       "      <th>19694</th>\n",
       "      <td>10</td>\n",
       "      <td>1</td>\n",
       "      <td>11</td>\n",
       "      <td>1.479885</td>\n",
       "    </tr>\n",
       "    <tr>\n",
       "      <th>13291</th>\n",
       "      <td>5</td>\n",
       "      <td>1</td>\n",
       "      <td>29</td>\n",
       "      <td>14.541667</td>\n",
       "    </tr>\n",
       "    <tr>\n",
       "      <th>17983</th>\n",
       "      <td>10</td>\n",
       "      <td>2</td>\n",
       "      <td>1</td>\n",
       "      <td>77.895522</td>\n",
       "    </tr>\n",
       "    <tr>\n",
       "      <th>66668</th>\n",
       "      <td>31</td>\n",
       "      <td>1</td>\n",
       "      <td>24</td>\n",
       "      <td>1.125720</td>\n",
       "    </tr>\n",
       "    <tr>\n",
       "      <th>4932</th>\n",
       "      <td>3</td>\n",
       "      <td>2</td>\n",
       "      <td>12</td>\n",
       "      <td>3.395349</td>\n",
       "    </tr>\n",
       "    <tr>\n",
       "      <th>25068</th>\n",
       "      <td>15</td>\n",
       "      <td>5</td>\n",
       "      <td>18</td>\n",
       "      <td>5.464286</td>\n",
       "    </tr>\n",
       "    <tr>\n",
       "      <th>56839</th>\n",
       "      <td>28</td>\n",
       "      <td>2</td>\n",
       "      <td>24</td>\n",
       "      <td>4.392137</td>\n",
       "    </tr>\n",
       "    <tr>\n",
       "      <th>49881</th>\n",
       "      <td>26</td>\n",
       "      <td>2</td>\n",
       "      <td>29</td>\n",
       "      <td>1.076923</td>\n",
       "    </tr>\n",
       "    <tr>\n",
       "      <th>1117</th>\n",
       "      <td>2</td>\n",
       "      <td>1</td>\n",
       "      <td>12</td>\n",
       "      <td>4.952381</td>\n",
       "    </tr>\n",
       "    <tr>\n",
       "      <th>1465</th>\n",
       "      <td>2</td>\n",
       "      <td>1</td>\n",
       "      <td>18</td>\n",
       "      <td>13.147945</td>\n",
       "    </tr>\n",
       "    <tr>\n",
       "      <th>33230</th>\n",
       "      <td>17</td>\n",
       "      <td>2</td>\n",
       "      <td>18</td>\n",
       "      <td>21.172485</td>\n",
       "    </tr>\n",
       "    <tr>\n",
       "      <th>68124</th>\n",
       "      <td>31</td>\n",
       "      <td>1</td>\n",
       "      <td>28</td>\n",
       "      <td>1.950000</td>\n",
       "    </tr>\n",
       "    <tr>\n",
       "      <th>22542</th>\n",
       "      <td>12</td>\n",
       "      <td>1</td>\n",
       "      <td>26</td>\n",
       "      <td>1.633333</td>\n",
       "    </tr>\n",
       "    <tr>\n",
       "      <th>4563</th>\n",
       "      <td>3</td>\n",
       "      <td>2</td>\n",
       "      <td>27</td>\n",
       "      <td>15.364407</td>\n",
       "    </tr>\n",
       "    <tr>\n",
       "      <th>5209</th>\n",
       "      <td>4</td>\n",
       "      <td>2</td>\n",
       "      <td>18</td>\n",
       "      <td>1.500621</td>\n",
       "    </tr>\n",
       "    <tr>\n",
       "      <th>46748</th>\n",
       "      <td>23</td>\n",
       "      <td>6</td>\n",
       "      <td>14</td>\n",
       "      <td>1.819121</td>\n",
       "    </tr>\n",
       "    <tr>\n",
       "      <th>44340</th>\n",
       "      <td>23</td>\n",
       "      <td>5</td>\n",
       "      <td>24</td>\n",
       "      <td>2.313869</td>\n",
       "    </tr>\n",
       "    <tr>\n",
       "      <th>59026</th>\n",
       "      <td>29</td>\n",
       "      <td>4</td>\n",
       "      <td>18</td>\n",
       "      <td>25.902892</td>\n",
       "    </tr>\n",
       "    <tr>\n",
       "      <th>25950</th>\n",
       "      <td>15</td>\n",
       "      <td>2</td>\n",
       "      <td>1</td>\n",
       "      <td>4.853770</td>\n",
       "    </tr>\n",
       "    <tr>\n",
       "      <th>12463</th>\n",
       "      <td>5</td>\n",
       "      <td>3</td>\n",
       "      <td>24</td>\n",
       "      <td>0.994057</td>\n",
       "    </tr>\n",
       "    <tr>\n",
       "      <th>29984</th>\n",
       "      <td>15</td>\n",
       "      <td>2</td>\n",
       "      <td>17</td>\n",
       "      <td>2.640971</td>\n",
       "    </tr>\n",
       "    <tr>\n",
       "      <th>45180</th>\n",
       "      <td>23</td>\n",
       "      <td>6</td>\n",
       "      <td>24</td>\n",
       "      <td>1.971154</td>\n",
       "    </tr>\n",
       "    <tr>\n",
       "      <th>36376</th>\n",
       "      <td>17</td>\n",
       "      <td>4</td>\n",
       "      <td>33</td>\n",
       "      <td>3.228063</td>\n",
       "    </tr>\n",
       "    <tr>\n",
       "      <th>14725</th>\n",
       "      <td>5</td>\n",
       "      <td>2</td>\n",
       "      <td>12</td>\n",
       "      <td>1.064935</td>\n",
       "    </tr>\n",
       "    <tr>\n",
       "      <th>69663</th>\n",
       "      <td>31</td>\n",
       "      <td>4</td>\n",
       "      <td>23</td>\n",
       "      <td>1.690722</td>\n",
       "    </tr>\n",
       "    <tr>\n",
       "      <th>19489</th>\n",
       "      <td>10</td>\n",
       "      <td>2</td>\n",
       "      <td>12</td>\n",
       "      <td>1.000000</td>\n",
       "    </tr>\n",
       "    <tr>\n",
       "      <th>34193</th>\n",
       "      <td>17</td>\n",
       "      <td>2</td>\n",
       "      <td>12</td>\n",
       "      <td>3.338442</td>\n",
       "    </tr>\n",
       "    <tr>\n",
       "      <th>...</th>\n",
       "      <td>...</td>\n",
       "      <td>...</td>\n",
       "      <td>...</td>\n",
       "      <td>...</td>\n",
       "    </tr>\n",
       "    <tr>\n",
       "      <th>66544</th>\n",
       "      <td>31</td>\n",
       "      <td>1</td>\n",
       "      <td>24</td>\n",
       "      <td>2.746507</td>\n",
       "    </tr>\n",
       "    <tr>\n",
       "      <th>28135</th>\n",
       "      <td>15</td>\n",
       "      <td>2</td>\n",
       "      <td>29</td>\n",
       "      <td>6.200000</td>\n",
       "    </tr>\n",
       "    <tr>\n",
       "      <th>38855</th>\n",
       "      <td>18</td>\n",
       "      <td>5</td>\n",
       "      <td>24</td>\n",
       "      <td>2.153846</td>\n",
       "    </tr>\n",
       "    <tr>\n",
       "      <th>19759</th>\n",
       "      <td>10</td>\n",
       "      <td>2</td>\n",
       "      <td>18</td>\n",
       "      <td>34.000000</td>\n",
       "    </tr>\n",
       "    <tr>\n",
       "      <th>68007</th>\n",
       "      <td>31</td>\n",
       "      <td>5</td>\n",
       "      <td>18</td>\n",
       "      <td>9.868805</td>\n",
       "    </tr>\n",
       "    <tr>\n",
       "      <th>29501</th>\n",
       "      <td>15</td>\n",
       "      <td>1</td>\n",
       "      <td>23</td>\n",
       "      <td>2.215175</td>\n",
       "    </tr>\n",
       "    <tr>\n",
       "      <th>53087</th>\n",
       "      <td>28</td>\n",
       "      <td>1</td>\n",
       "      <td>24</td>\n",
       "      <td>2.573494</td>\n",
       "    </tr>\n",
       "    <tr>\n",
       "      <th>64733</th>\n",
       "      <td>31</td>\n",
       "      <td>4</td>\n",
       "      <td>28</td>\n",
       "      <td>1.257206</td>\n",
       "    </tr>\n",
       "    <tr>\n",
       "      <th>70534</th>\n",
       "      <td>32</td>\n",
       "      <td>2</td>\n",
       "      <td>18</td>\n",
       "      <td>8.032258</td>\n",
       "    </tr>\n",
       "    <tr>\n",
       "      <th>59769</th>\n",
       "      <td>30</td>\n",
       "      <td>2</td>\n",
       "      <td>27</td>\n",
       "      <td>49.537500</td>\n",
       "    </tr>\n",
       "    <tr>\n",
       "      <th>19589</th>\n",
       "      <td>10</td>\n",
       "      <td>2</td>\n",
       "      <td>18</td>\n",
       "      <td>37.380282</td>\n",
       "    </tr>\n",
       "    <tr>\n",
       "      <th>24270</th>\n",
       "      <td>15</td>\n",
       "      <td>4</td>\n",
       "      <td>18</td>\n",
       "      <td>10.366197</td>\n",
       "    </tr>\n",
       "    <tr>\n",
       "      <th>31794</th>\n",
       "      <td>16</td>\n",
       "      <td>3</td>\n",
       "      <td>24</td>\n",
       "      <td>1.375969</td>\n",
       "    </tr>\n",
       "    <tr>\n",
       "      <th>72490</th>\n",
       "      <td>33</td>\n",
       "      <td>3</td>\n",
       "      <td>24</td>\n",
       "      <td>1.324011</td>\n",
       "    </tr>\n",
       "    <tr>\n",
       "      <th>1741</th>\n",
       "      <td>2</td>\n",
       "      <td>4</td>\n",
       "      <td>14</td>\n",
       "      <td>1.373199</td>\n",
       "    </tr>\n",
       "    <tr>\n",
       "      <th>17133</th>\n",
       "      <td>7</td>\n",
       "      <td>2</td>\n",
       "      <td>27</td>\n",
       "      <td>3.328125</td>\n",
       "    </tr>\n",
       "    <tr>\n",
       "      <th>36414</th>\n",
       "      <td>17</td>\n",
       "      <td>2</td>\n",
       "      <td>18</td>\n",
       "      <td>32.184971</td>\n",
       "    </tr>\n",
       "    <tr>\n",
       "      <th>3328</th>\n",
       "      <td>2</td>\n",
       "      <td>4</td>\n",
       "      <td>32</td>\n",
       "      <td>2.666667</td>\n",
       "    </tr>\n",
       "    <tr>\n",
       "      <th>48440</th>\n",
       "      <td>25</td>\n",
       "      <td>4</td>\n",
       "      <td>33</td>\n",
       "      <td>3.776504</td>\n",
       "    </tr>\n",
       "    <tr>\n",
       "      <th>38369</th>\n",
       "      <td>18</td>\n",
       "      <td>4</td>\n",
       "      <td>33</td>\n",
       "      <td>0.961165</td>\n",
       "    </tr>\n",
       "    <tr>\n",
       "      <th>10292</th>\n",
       "      <td>5</td>\n",
       "      <td>2</td>\n",
       "      <td>18</td>\n",
       "      <td>9.289216</td>\n",
       "    </tr>\n",
       "    <tr>\n",
       "      <th>2731</th>\n",
       "      <td>2</td>\n",
       "      <td>4</td>\n",
       "      <td>23</td>\n",
       "      <td>1.428571</td>\n",
       "    </tr>\n",
       "    <tr>\n",
       "      <th>6297</th>\n",
       "      <td>4</td>\n",
       "      <td>2</td>\n",
       "      <td>27</td>\n",
       "      <td>36.899023</td>\n",
       "    </tr>\n",
       "    <tr>\n",
       "      <th>15958</th>\n",
       "      <td>7</td>\n",
       "      <td>2</td>\n",
       "      <td>1</td>\n",
       "      <td>34.000000</td>\n",
       "    </tr>\n",
       "    <tr>\n",
       "      <th>27367</th>\n",
       "      <td>15</td>\n",
       "      <td>1</td>\n",
       "      <td>12</td>\n",
       "      <td>1.913922</td>\n",
       "    </tr>\n",
       "    <tr>\n",
       "      <th>66988</th>\n",
       "      <td>31</td>\n",
       "      <td>2</td>\n",
       "      <td>18</td>\n",
       "      <td>12.750000</td>\n",
       "    </tr>\n",
       "    <tr>\n",
       "      <th>4340</th>\n",
       "      <td>3</td>\n",
       "      <td>2</td>\n",
       "      <td>32</td>\n",
       "      <td>3.296610</td>\n",
       "    </tr>\n",
       "    <tr>\n",
       "      <th>60703</th>\n",
       "      <td>31</td>\n",
       "      <td>4</td>\n",
       "      <td>22</td>\n",
       "      <td>27.037983</td>\n",
       "    </tr>\n",
       "    <tr>\n",
       "      <th>7012</th>\n",
       "      <td>4</td>\n",
       "      <td>1</td>\n",
       "      <td>20</td>\n",
       "      <td>27.146667</td>\n",
       "    </tr>\n",
       "    <tr>\n",
       "      <th>18531</th>\n",
       "      <td>10</td>\n",
       "      <td>5</td>\n",
       "      <td>24</td>\n",
       "      <td>3.000000</td>\n",
       "    </tr>\n",
       "  </tbody>\n",
       "</table>\n",
       "<p>14928 rows × 4 columns</p>\n",
       "</div>"
      ],
      "text/plain": [
       "       State_Name  Season  Crop  yeild per area\n",
       "73037          33       2    10     9819.915254\n",
       "57076          28       2    32        5.479452\n",
       "56884          28       1    14        1.396060\n",
       "19694          10       1    11        1.479885\n",
       "13291           5       1    29       14.541667\n",
       "17983          10       2     1       77.895522\n",
       "66668          31       1    24        1.125720\n",
       "4932            3       2    12        3.395349\n",
       "25068          15       5    18        5.464286\n",
       "56839          28       2    24        4.392137\n",
       "49881          26       2    29        1.076923\n",
       "1117            2       1    12        4.952381\n",
       "1465            2       1    18       13.147945\n",
       "33230          17       2    18       21.172485\n",
       "68124          31       1    28        1.950000\n",
       "22542          12       1    26        1.633333\n",
       "4563            3       2    27       15.364407\n",
       "5209            4       2    18        1.500621\n",
       "46748          23       6    14        1.819121\n",
       "44340          23       5    24        2.313869\n",
       "59026          29       4    18       25.902892\n",
       "25950          15       2     1        4.853770\n",
       "12463           5       3    24        0.994057\n",
       "29984          15       2    17        2.640971\n",
       "45180          23       6    24        1.971154\n",
       "36376          17       4    33        3.228063\n",
       "14725           5       2    12        1.064935\n",
       "69663          31       4    23        1.690722\n",
       "19489          10       2    12        1.000000\n",
       "34193          17       2    12        3.338442\n",
       "...           ...     ...   ...             ...\n",
       "66544          31       1    24        2.746507\n",
       "28135          15       2    29        6.200000\n",
       "38855          18       5    24        2.153846\n",
       "19759          10       2    18       34.000000\n",
       "68007          31       5    18        9.868805\n",
       "29501          15       1    23        2.215175\n",
       "53087          28       1    24        2.573494\n",
       "64733          31       4    28        1.257206\n",
       "70534          32       2    18        8.032258\n",
       "59769          30       2    27       49.537500\n",
       "19589          10       2    18       37.380282\n",
       "24270          15       4    18       10.366197\n",
       "31794          16       3    24        1.375969\n",
       "72490          33       3    24        1.324011\n",
       "1741            2       4    14        1.373199\n",
       "17133           7       2    27        3.328125\n",
       "36414          17       2    18       32.184971\n",
       "3328            2       4    32        2.666667\n",
       "48440          25       4    33        3.776504\n",
       "38369          18       4    33        0.961165\n",
       "10292           5       2    18        9.289216\n",
       "2731            2       4    23        1.428571\n",
       "6297            4       2    27       36.899023\n",
       "15958           7       2     1       34.000000\n",
       "27367          15       1    12        1.913922\n",
       "66988          31       2    18       12.750000\n",
       "4340            3       2    32        3.296610\n",
       "60703          31       4    22       27.037983\n",
       "7012            4       1    20       27.146667\n",
       "18531          10       5    24        3.000000\n",
       "\n",
       "[14928 rows x 4 columns]"
      ]
     },
     "execution_count": 43,
     "metadata": {},
     "output_type": "execute_result"
    }
   ],
   "source": [
    "X_test"
   ]
  },
  {
   "cell_type": "code",
   "execution_count": null,
   "metadata": {},
   "outputs": [],
   "source": [
    "X_train.to_excel('Training_Testing/X_train.xlsx', index=False)\n",
    "X_test.to_excel('Training_Testing/X_test.xlsx', index=False)\n",
    "y_train.to_excel('Training_Testing/y_train.xlsx', index=False)\n",
    "y_test.to_excel('Training_Testing/y_test.xlsx', index=False)"
   ]
  },
  {
   "cell_type": "markdown",
   "metadata": {},
   "source": [
    "# Normalization"
   ]
  },
  {
   "cell_type": "code",
   "execution_count": null,
   "metadata": {},
   "outputs": [],
   "source": [
    "from sklearn.preprocessing import StandardScaler\n",
    "scaler = StandardScaler()\n",
    "scaler.fit(X_train)\n",
    "\n",
    "X_train = scaler.transform(X_train)\n",
    "X_test = scaler.transform(X_test)"
   ]
  },
  {
   "cell_type": "code",
   "execution_count": null,
   "metadata": {
    "scrolled": true
   },
   "outputs": [
    {
     "name": "stdout",
     "output_type": "stream",
     "text": [
      "[[ 1.45297168 -0.40031221 -1.46898197  6.68242877]\n",
      " [ 0.95888071 -0.40031221  1.26716116 -0.0868859 ]\n",
      " [ 0.95888071 -1.07056745 -0.9715014  -0.08970234]\n",
      " ...\n",
      " [ 1.25533529  0.94019826  0.02345974 -0.07201633]\n",
      " [-1.41275594 -1.07056745 -0.22528055 -0.07194136]\n",
      " [-0.81984677  1.61045349  0.27220002 -0.08859605]]\n"
     ]
    }
   ],
   "source": [
    "print(X_test)"
   ]
  },
  {
   "cell_type": "markdown",
   "metadata": {},
   "source": [
    "# Training the SVM"
   ]
  },
  {
   "cell_type": "code",
   "execution_count": null,
   "metadata": {},
   "outputs": [],
   "source": [
    "from sklearn.svm import SVC\n",
    "from sklearn.metrics import classification_report,confusion_matrix,accuracy_score"
   ]
  },
  {
   "cell_type": "code",
   "execution_count": null,
   "metadata": {},
   "outputs": [],
   "source": [
    "model_svm = SVC()"
   ]
  },
  {
   "cell_type": "code",
   "execution_count": null,
   "metadata": {
    "scrolled": true
   },
   "outputs": [
    {
     "data": {
      "text/plain": [
       "SVC(C=1.0, break_ties=False, cache_size=200, class_weight=None, coef0=0.0,\n",
       "    decision_function_shape='ovr', degree=3, gamma='scale', kernel='rbf',\n",
       "    max_iter=-1, probability=False, random_state=None, shrinking=True,\n",
       "    tol=0.001, verbose=False)"
      ]
     },
     "execution_count": 49,
     "metadata": {},
     "output_type": "execute_result"
    }
   ],
   "source": [
    "model_svm.fit(X_train, y_train)"
   ]
  },
  {
   "cell_type": "code",
   "execution_count": null,
   "metadata": {},
   "outputs": [],
   "source": [
    "filename='model/svm_model.sav'\n",
    "pickle.dump(model_svm,open(filename, 'wb'))"
   ]
  },
  {
   "cell_type": "markdown",
   "metadata": {},
   "source": [
    "# Predictions and Evaluation"
   ]
  },
  {
   "cell_type": "code",
   "execution_count": null,
   "metadata": {},
   "outputs": [],
   "source": [
    "predictions_svm = model_svm.predict(X_test)"
   ]
  },
  {
   "cell_type": "code",
   "execution_count": null,
   "metadata": {},
   "outputs": [
    {
     "name": "stdout",
     "output_type": "stream",
     "text": [
      "Overall accuracy of SVM model using test-set is : 100.000000\n"
     ]
    }
   ],
   "source": [
    "acc_svm = accuracy_score(y_true=y_test, y_pred= predictions_svm)\n",
    "print(\"Overall accuracy of SVM model using test-set is : %f\" %(acc_svm*100))"
   ]
  },
  {
   "cell_type": "code",
   "execution_count": null,
   "metadata": {},
   "outputs": [
    {
     "name": "stdout",
     "output_type": "stream",
     "text": [
      "              precision    recall  f1-score   support\n",
      "\n",
      "           0       1.00      1.00      1.00     14744\n",
      "           1       1.00      1.00      1.00        66\n",
      "           2       1.00      1.00      1.00         9\n",
      "           3       1.00      1.00      1.00         4\n",
      "           4       1.00      1.00      1.00       105\n",
      "\n",
      "    accuracy                           1.00     14928\n",
      "   macro avg       1.00      1.00      1.00     14928\n",
      "weighted avg       1.00      1.00      1.00     14928\n",
      "\n"
     ]
    }
   ],
   "source": [
    "print(classification_report(y_test,predictions_svm))"
   ]
  },
  {
   "cell_type": "code",
   "execution_count": null,
   "metadata": {
    "scrolled": false
   },
   "outputs": [
    {
     "name": "stdout",
     "output_type": "stream",
     "text": [
      "[[14744     0     0     0     0]\n",
      " [    0    66     0     0     0]\n",
      " [    0     0     9     0     0]\n",
      " [    0     0     0     4     0]\n",
      " [    0     0     0     0   105]]\n"
     ]
    }
   ],
   "source": [
    "print(confusion_matrix(y_test,predictions_svm))"
   ]
  },
  {
   "cell_type": "markdown",
   "metadata": {},
   "source": [
    "# Train the KNN Model"
   ]
  },
  {
   "cell_type": "code",
   "execution_count": null,
   "metadata": {},
   "outputs": [],
   "source": [
    "from sklearn.neighbors import KNeighborsClassifier"
   ]
  },
  {
   "cell_type": "code",
   "execution_count": null,
   "metadata": {},
   "outputs": [],
   "source": [
    "classifier = KNeighborsClassifier(n_neighbors=5)"
   ]
  },
  {
   "cell_type": "code",
   "execution_count": null,
   "metadata": {},
   "outputs": [
    {
     "data": {
      "text/plain": [
       "KNeighborsClassifier(algorithm='auto', leaf_size=30, metric='minkowski',\n",
       "                     metric_params=None, n_jobs=None, n_neighbors=5, p=2,\n",
       "                     weights='uniform')"
      ]
     },
     "execution_count": 57,
     "metadata": {},
     "output_type": "execute_result"
    }
   ],
   "source": [
    "classifier.fit(X_train, y_train)"
   ]
  },
  {
   "cell_type": "code",
   "execution_count": null,
   "metadata": {},
   "outputs": [],
   "source": [
    "y_pred = classifier.predict(X_test)"
   ]
  },
  {
   "cell_type": "code",
   "execution_count": null,
   "metadata": {},
   "outputs": [],
   "source": [
    "filename='model/Knn_model.sav'\n",
    "pickle.dump(classifier,open(filename, 'wb'))"
   ]
  },
  {
   "cell_type": "markdown",
   "metadata": {},
   "source": [
    "# Evaluating the KNN"
   ]
  },
  {
   "cell_type": "code",
   "execution_count": null,
   "metadata": {},
   "outputs": [
    {
     "name": "stdout",
     "output_type": "stream",
     "text": [
      "Overall accuracy of KNN model using test-set is : 99.973205\n"
     ]
    }
   ],
   "source": [
    "acc_knn = accuracy_score(y_true=y_test, y_pred= y_pred)\n",
    "print(\"Overall accuracy of KNN model using test-set is : %f\" %(acc_knn*100))"
   ]
  },
  {
   "cell_type": "code",
   "execution_count": null,
   "metadata": {
    "scrolled": true
   },
   "outputs": [
    {
     "name": "stdout",
     "output_type": "stream",
     "text": [
      "              precision    recall  f1-score   support\n",
      "\n",
      "           0       1.00      1.00      1.00     14744\n",
      "           1       0.96      0.98      0.97        66\n",
      "           2       1.00      1.00      1.00         9\n",
      "           3       1.00      1.00      1.00         4\n",
      "           4       0.99      0.97      0.98       105\n",
      "\n",
      "    accuracy                           1.00     14928\n",
      "   macro avg       0.99      0.99      0.99     14928\n",
      "weighted avg       1.00      1.00      1.00     14928\n",
      "\n"
     ]
    }
   ],
   "source": [
    "print(classification_report(y_test, y_pred))"
   ]
  },
  {
   "cell_type": "code",
   "execution_count": null,
   "metadata": {
    "scrolled": true
   },
   "outputs": [
    {
     "name": "stdout",
     "output_type": "stream",
     "text": [
      "[[14744     0     0     0     0]\n",
      " [    0    65     0     0     1]\n",
      " [    0     0     9     0     0]\n",
      " [    0     0     0     4     0]\n",
      " [    0     3     0     0   102]]\n"
     ]
    }
   ],
   "source": [
    "print(confusion_matrix(y_test, y_pred))"
   ]
  },
  {
   "cell_type": "markdown",
   "metadata": {},
   "source": [
    "# Train the Naive Bayes"
   ]
  },
  {
   "cell_type": "code",
   "execution_count": null,
   "metadata": {},
   "outputs": [],
   "source": [
    "from sklearn.naive_bayes import GaussianNB"
   ]
  },
  {
   "cell_type": "code",
   "execution_count": null,
   "metadata": {},
   "outputs": [],
   "source": [
    "nb_model = GaussianNB()"
   ]
  },
  {
   "cell_type": "code",
   "execution_count": null,
   "metadata": {},
   "outputs": [
    {
     "data": {
      "text/plain": [
       "GaussianNB(priors=None, var_smoothing=1e-09)"
      ]
     },
     "execution_count": 65,
     "metadata": {},
     "output_type": "execute_result"
    }
   ],
   "source": [
    "nb_model.fit(X_train,y_train)"
   ]
  },
  {
   "cell_type": "code",
   "execution_count": null,
   "metadata": {},
   "outputs": [],
   "source": [
    "y_pred = nb_model.predict(X_test)"
   ]
  },
  {
   "cell_type": "code",
   "execution_count": null,
   "metadata": {},
   "outputs": [],
   "source": [
    "filename='model/nb_model.sav'\n",
    "pickle.dump(nb_model,open(filename, 'wb'))"
   ]
  },
  {
   "cell_type": "markdown",
   "metadata": {},
   "source": [
    "# Evaluating the Naive bayes"
   ]
  },
  {
   "cell_type": "code",
   "execution_count": null,
   "metadata": {},
   "outputs": [
    {
     "name": "stdout",
     "output_type": "stream",
     "text": [
      "Overall accuracy of NB model using test-set is : 98.305198\n"
     ]
    }
   ],
   "source": [
    "acc_nb = accuracy_score(y_true=y_test, y_pred= y_pred)\n",
    "print(\"Overall accuracy of NB model using test-set is : %f\" %(acc_nb*100))"
   ]
  },
  {
   "cell_type": "code",
   "execution_count": null,
   "metadata": {},
   "outputs": [
    {
     "name": "stdout",
     "output_type": "stream",
     "text": [
      "              precision    recall  f1-score   support\n",
      "\n",
      "           0       1.00      0.99      0.99     14744\n",
      "           1       0.89      0.36      0.52        66\n",
      "           2       0.43      0.67      0.52         9\n",
      "           3       1.00      1.00      1.00         4\n",
      "           4       0.30      1.00      0.46       105\n",
      "\n",
      "    accuracy                           0.98     14928\n",
      "   macro avg       0.72      0.80      0.70     14928\n",
      "weighted avg       0.99      0.98      0.99     14928\n",
      "\n"
     ]
    }
   ],
   "source": [
    "print(classification_report(y_test, y_pred))"
   ]
  },
  {
   "cell_type": "code",
   "execution_count": null,
   "metadata": {},
   "outputs": [
    {
     "name": "stdout",
     "output_type": "stream",
     "text": [
      "[[14536     0     8     0   200]\n",
      " [    0    24     0     0    42]\n",
      " [    0     3     6     0     0]\n",
      " [    0     0     0     4     0]\n",
      " [    0     0     0     0   105]]\n"
     ]
    }
   ],
   "source": [
    "print(confusion_matrix(y_test, y_pred))"
   ]
  },
  {
   "cell_type": "markdown",
   "metadata": {},
   "source": [
    "# Model Accuracy plot"
   ]
  },
  {
   "cell_type": "code",
   "execution_count": null,
   "metadata": {},
   "outputs": [],
   "source": [
    "li_x = ['SVM', 'KNN', 'NB']\n",
    "li_y = [acc_svm, acc_knn,acc_nb]"
   ]
  },
  {
   "cell_type": "code",
   "execution_count": null,
   "metadata": {
    "scrolled": false
   },
   "outputs": [
    {
     "name": "stdout",
     "output_type": "stream",
     "text": [
      "[1.0, 0.9997320471596999, 0.9830519828510182]\n"
     ]
    },
    {
     "data": {
      "text/plain": [
       "<matplotlib.axes._subplots.AxesSubplot at 0xbfa2e50>"
      ]
     },
     "execution_count": 72,
     "metadata": {},
     "output_type": "execute_result"
    },
    {
     "data": {
      "image/png": "[encoded data removed]",
      "text/plain": [
       "<Figure size 432x288 with 1 Axes>"
      ]
     },
     "metadata": {
      "needs_background": "light"
     },
     "output_type": "display_data"
    }
   ],
   "source": [
    "print(li_y)\n",
    "sns.barplot(x=li_x, y=li_y)"
   ]
  },
  {
   "cell_type": "markdown",
   "metadata": {},
   "source": [
    "# Test"
   ]
  },
  {
   "cell_type": "code",
   "execution_count": null,
   "metadata": {},
   "outputs": [],
   "source": [
    "label = {0:'Poor', 1:'Good', 2:'Average', 3:'Very Good', 4:'Exelent'}"
   ]
  },
  {
   "cell_type": "code",
   "execution_count": null,
   "metadata": {},
   "outputs": [],
   "source": [
    "new = pd.read_excel('dataset/new_data.xlsx')"
   ]
  },
  {
   "cell_type": "code",
   "execution_count": null,
   "metadata": {},
   "outputs": [
    {
     "data": {
      "text/html": [
       "<div>\n",
       "<style scoped>\n",
       "    .dataframe tbody tr th:only-of-type {\n",
       "        vertical-align: middle;\n",
       "    }\n",
       "\n",
       "    .dataframe tbody tr th {\n",
       "        vertical-align: top;\n",
       "    }\n",
       "\n",
       "    .dataframe thead th {\n",
       "        text-align: right;\n",
       "    }\n",
       "</style>\n",
       "<table border=\"1\" class=\"dataframe\">\n",
       "  <thead>\n",
       "    <tr style=\"text-align: right;\">\n",
       "      <th></th>\n",
       "      <th>State_Name</th>\n",
       "      <th>District_Name</th>\n",
       "      <th>Season</th>\n",
       "      <th>Crop</th>\n",
       "      <th>Area</th>\n",
       "      <th>Production</th>\n",
       "      <th>yeild per area</th>\n",
       "    </tr>\n",
       "  </thead>\n",
       "  <tbody>\n",
       "    <tr>\n",
       "      <th>0</th>\n",
       "      <td>Andaman and Nicobar Islands</td>\n",
       "      <td>NICOBARS</td>\n",
       "      <td>Kharif</td>\n",
       "      <td>Rice</td>\n",
       "      <td>102.0</td>\n",
       "      <td>321.0</td>\n",
       "      <td>3.147059</td>\n",
       "    </tr>\n",
       "    <tr>\n",
       "      <th>1</th>\n",
       "      <td>Andaman and Nicobar Islands</td>\n",
       "      <td>NICOBARS</td>\n",
       "      <td>Whole Year</td>\n",
       "      <td>Banana</td>\n",
       "      <td>176.0</td>\n",
       "      <td>641.0</td>\n",
       "      <td>3.642045</td>\n",
       "    </tr>\n",
       "  </tbody>\n",
       "</table>\n",
       "</div>"
      ],
      "text/plain": [
       "                    State_Name District_Name       Season    Crop   Area  \\\n",
       "0  Andaman and Nicobar Islands      NICOBARS  Kharif         Rice  102.0   \n",
       "1  Andaman and Nicobar Islands      NICOBARS  Whole Year   Banana  176.0   \n",
       "\n",
       "   Production  yeild per area  \n",
       "0       321.0        3.147059  \n",
       "1       641.0        3.642045  "
      ]
     },
     "execution_count": 75,
     "metadata": {},
     "output_type": "execute_result"
    }
   ],
   "source": [
    "new.head(2)"
   ]
  },
  {
   "cell_type": "code",
   "execution_count": null,
   "metadata": {},
   "outputs": [],
   "source": [
    "state = new.State_Name.unique()"
   ]
  },
  {
   "cell_type": "code",
   "execution_count": null,
   "metadata": {
    "scrolled": true
   },
   "outputs": [
    {
     "name": "stdout",
     "output_type": "stream",
     "text": [
      "Andaman and Nicobar Islands --- 1\n",
      "Andhra Pradesh --- 2\n",
      "Arunachal Pradesh --- 3\n",
      "Assam --- 4\n",
      "Bihar --- 5\n",
      "Chandigarh --- 6\n",
      "Chhattisgarh --- 7\n",
      "Dadra and Nagar Haveli --- 8\n",
      "Goa --- 9\n",
      "Gujarat --- 10\n",
      "Haryana --- 11\n",
      "Himachal Pradesh --- 12\n",
      "Jammu and Kashmir  --- 13\n",
      "Jharkhand --- 14\n",
      "Karnataka --- 15\n",
      "Kerala --- 16\n",
      "Madhya Pradesh --- 17\n",
      "Maharashtra --- 18\n",
      "Manipur --- 19\n",
      "Meghalaya --- 20\n",
      "Mizoram --- 21\n",
      "Nagaland --- 22\n",
      "Odisha --- 23\n",
      "Puducherry --- 24\n",
      "Punjab --- 25\n",
      "Rajasthan --- 26\n",
      "Sikkim --- 27\n",
      "Tamil Nadu --- 28\n",
      "Telangana  --- 29\n",
      "Tripura --- 30\n",
      "Uttar Pradesh --- 31\n",
      "Uttarakhand --- 32\n",
      "West Bengal --- 33\n"
     ]
    }
   ],
   "source": [
    "count = 1\n",
    "for i in state:\n",
    "    print(i,'---',count)\n",
    "    count += 1"
   ]
  },
  {
   "cell_type": "code",
   "execution_count": null,
   "metadata": {},
   "outputs": [],
   "source": [
    "sea = new.Season.unique()"
   ]
  },
  {
   "cell_type": "code",
   "execution_count": null,
   "metadata": {
    "scrolled": true
   },
   "outputs": [
    {
     "name": "stdout",
     "output_type": "stream",
     "text": [
      "Kharif      --- 1\n",
      "Whole Year  --- 2\n",
      "Autumn      --- 3\n",
      "Rabi        --- 4\n",
      "Summer      --- 5\n",
      "Winter      --- 6\n"
     ]
    }
   ],
   "source": [
    "count = 1\n",
    "for i in sea:\n",
    "    print(i,'---',count)\n",
    "    count += 1"
   ]
  },
  {
   "cell_type": "code",
   "execution_count": null,
   "metadata": {},
   "outputs": [],
   "source": [
    "cro = new.Crop.unique()"
   ]
  },
  {
   "cell_type": "code",
   "execution_count": null,
   "metadata": {
    "scrolled": true
   },
   "outputs": [
    {
     "name": "stdout",
     "output_type": "stream",
     "text": [
      "Rice --- 1\n",
      "Banana --- 2\n",
      "Coconut  --- 3\n",
      "Sugarcane --- 4\n",
      "Sweet potato --- 5\n",
      "Dry chillies --- 6\n",
      "Turmeric --- 7\n",
      "Black pepper --- 8\n",
      "Cashewnut --- 9\n",
      "Groundnut --- 10\n",
      "Cotton(lint) --- 11\n",
      "Ragi --- 12\n",
      "Onion --- 13\n",
      "Potato --- 14\n",
      "Brinjal --- 15\n",
      "Mango --- 16\n",
      "Papaya --- 17\n",
      "Tomato --- 18\n",
      "Soyabean --- 19\n",
      "Wheat --- 20\n",
      "Lemon --- 21\n",
      "Pome Granet --- 22\n",
      "Sapota --- 23\n",
      "Cabbage --- 24\n",
      "Sunflower --- 25\n",
      "Ginger --- 26\n",
      "Paddy --- 27\n",
      "Tea --- 28\n",
      "Carrot --- 29\n",
      "Cauliflower --- 30\n",
      "Jack Fruit --- 31\n",
      "Bottle Gourd --- 32\n",
      "Bean --- 33\n"
     ]
    }
   ],
   "source": [
    "count = 1\n",
    "for i in cro:\n",
    "    print(i,'---',count)\n",
    "    count += 1"
   ]
  },
  {
   "cell_type": "code",
   "execution_count": null,
   "metadata": {},
   "outputs": [],
   "source": [
    "state = int(input('Enter the State : '))\n",
    "season = int(input('Enter the Season : '))\n",
    "crop = int(input('Enter the Crop : '))\n",
    "yeild = float(input('Enter the Expected Yeild'))"
   ]
  },
  {
   "cell_type": "code",
   "execution_count": null,
   "metadata": {},
   "outputs": [],
   "source": [
    "l = [[state,season,crop,yeild]]"
   ]
  },
  {
   "cell_type": "code",
   "execution_count": null,
   "metadata": {},
   "outputs": [],
   "source": [
    "import pickle\n",
    "filename='model/nb_model.sav'"
   ]
  },
  {
   "cell_type": "code",
   "execution_count": null,
   "metadata": {},
   "outputs": [],
   "source": [
    "model = pickle.load(open(filename,'rb'))"
   ]
  },
  {
   "cell_type": "code",
   "execution_count": null,
   "metadata": {},
   "outputs": [],
   "source": [
    "y_pred = model.predict(l)"
   ]
  },
  {
   "cell_type": "code",
   "execution_count": null,
   "metadata": {},
   "outputs": [],
   "source": [
    "y_pred"
   ]
  },
  {
   "cell_type": "code",
   "execution_count": null,
   "metadata": {},
   "outputs": [],
   "source": [
    "a = int(y_pred)"
   ]
  },
  {
   "cell_type": "code",
   "execution_count": null,
   "metadata": {},
   "outputs": [],
   "source": [
    "answer = label[a]"
   ]
  },
  {
   "cell_type": "code",
   "execution_count": null,
   "metadata": {},
   "outputs": [],
   "source": [
    "print(\"Your going to get {}\".format(answer))"
   ]
  },
  {
   "cell_type": "markdown",
   "metadata": {},
   "source": [
    "# Thank You..."
   ]
  }
 ],
 "metadata": {
  "kernelspec": {
   "display_name": "Python 3",
   "language": "python",
   "name": "python3"
  },
  "language_info": {
   "codemirror_mode": {
    "name": "ipython",
    "version": 3
   },
   "file_extension": ".py",
   "mimetype": "text/x-python",
   "name": "python",
   "nbconvert_exporter": "python",
   "pygments_lexer": "ipython3",
   "version": "3.8.3"
  }
 },
 "nbformat": 4,
 "nbformat_minor": 2
}
